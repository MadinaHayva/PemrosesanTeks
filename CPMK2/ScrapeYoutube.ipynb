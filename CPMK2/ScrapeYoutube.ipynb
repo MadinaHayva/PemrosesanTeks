{
  "cells": [
    {
      "cell_type": "markdown",
      "source": [
        "### Madina Hayva Putri - 5220411187\n",
        "### Pemrosesan Teks - B"
      ],
      "metadata": {
        "id": "Epr4MEIz7yc0"
      }
    },
    {
      "cell_type": "markdown",
      "source": [
        "# Scraping Komentar Youtube Berdasarkan Kata Kunci"
      ],
      "metadata": {
        "id": "vM9CUF8j8Pd_"
      }
    },
    {
      "cell_type": "code",
      "source": [
        "!pip install google-api-python-client\n",
        "!pip install tqdm"
      ],
      "metadata": {
        "colab": {
          "base_uri": "https://localhost:8080/"
        },
        "id": "SDfRX8Nz6gRp",
        "outputId": "3733cef4-5fe5-44ef-a6e8-65e1020e30f6"
      },
      "execution_count": 2,
      "outputs": [
        {
          "output_type": "stream",
          "name": "stdout",
          "text": [
            "Requirement already satisfied: google-api-python-client in /usr/local/lib/python3.12/dist-packages (2.184.0)\n",
            "Requirement already satisfied: httplib2<1.0.0,>=0.19.0 in /usr/local/lib/python3.12/dist-packages (from google-api-python-client) (0.31.0)\n",
            "Requirement already satisfied: google-auth!=2.24.0,!=2.25.0,<3.0.0,>=1.32.0 in /usr/local/lib/python3.12/dist-packages (from google-api-python-client) (2.38.0)\n",
            "Requirement already satisfied: google-auth-httplib2<1.0.0,>=0.2.0 in /usr/local/lib/python3.12/dist-packages (from google-api-python-client) (0.2.0)\n",
            "Requirement already satisfied: google-api-core!=2.0.*,!=2.1.*,!=2.2.*,!=2.3.0,<3.0.0,>=1.31.5 in /usr/local/lib/python3.12/dist-packages (from google-api-python-client) (2.25.2)\n",
            "Requirement already satisfied: uritemplate<5,>=3.0.1 in /usr/local/lib/python3.12/dist-packages (from google-api-python-client) (4.2.0)\n",
            "Requirement already satisfied: googleapis-common-protos<2.0.0,>=1.56.2 in /usr/local/lib/python3.12/dist-packages (from google-api-core!=2.0.*,!=2.1.*,!=2.2.*,!=2.3.0,<3.0.0,>=1.31.5->google-api-python-client) (1.70.0)\n",
            "Requirement already satisfied: protobuf!=3.20.0,!=3.20.1,!=4.21.0,!=4.21.1,!=4.21.2,!=4.21.3,!=4.21.4,!=4.21.5,<7.0.0,>=3.19.5 in /usr/local/lib/python3.12/dist-packages (from google-api-core!=2.0.*,!=2.1.*,!=2.2.*,!=2.3.0,<3.0.0,>=1.31.5->google-api-python-client) (5.29.5)\n",
            "Requirement already satisfied: proto-plus<2.0.0,>=1.22.3 in /usr/local/lib/python3.12/dist-packages (from google-api-core!=2.0.*,!=2.1.*,!=2.2.*,!=2.3.0,<3.0.0,>=1.31.5->google-api-python-client) (1.26.1)\n",
            "Requirement already satisfied: requests<3.0.0,>=2.18.0 in /usr/local/lib/python3.12/dist-packages (from google-api-core!=2.0.*,!=2.1.*,!=2.2.*,!=2.3.0,<3.0.0,>=1.31.5->google-api-python-client) (2.32.4)\n",
            "Requirement already satisfied: cachetools<6.0,>=2.0.0 in /usr/local/lib/python3.12/dist-packages (from google-auth!=2.24.0,!=2.25.0,<3.0.0,>=1.32.0->google-api-python-client) (5.5.2)\n",
            "Requirement already satisfied: pyasn1-modules>=0.2.1 in /usr/local/lib/python3.12/dist-packages (from google-auth!=2.24.0,!=2.25.0,<3.0.0,>=1.32.0->google-api-python-client) (0.4.2)\n",
            "Requirement already satisfied: rsa<5,>=3.1.4 in /usr/local/lib/python3.12/dist-packages (from google-auth!=2.24.0,!=2.25.0,<3.0.0,>=1.32.0->google-api-python-client) (4.9.1)\n",
            "Requirement already satisfied: pyparsing<4,>=3.0.4 in /usr/local/lib/python3.12/dist-packages (from httplib2<1.0.0,>=0.19.0->google-api-python-client) (3.2.5)\n",
            "Requirement already satisfied: pyasn1<0.7.0,>=0.6.1 in /usr/local/lib/python3.12/dist-packages (from pyasn1-modules>=0.2.1->google-auth!=2.24.0,!=2.25.0,<3.0.0,>=1.32.0->google-api-python-client) (0.6.1)\n",
            "Requirement already satisfied: charset_normalizer<4,>=2 in /usr/local/lib/python3.12/dist-packages (from requests<3.0.0,>=2.18.0->google-api-core!=2.0.*,!=2.1.*,!=2.2.*,!=2.3.0,<3.0.0,>=1.31.5->google-api-python-client) (3.4.3)\n",
            "Requirement already satisfied: idna<4,>=2.5 in /usr/local/lib/python3.12/dist-packages (from requests<3.0.0,>=2.18.0->google-api-core!=2.0.*,!=2.1.*,!=2.2.*,!=2.3.0,<3.0.0,>=1.31.5->google-api-python-client) (3.10)\n",
            "Requirement already satisfied: urllib3<3,>=1.21.1 in /usr/local/lib/python3.12/dist-packages (from requests<3.0.0,>=2.18.0->google-api-core!=2.0.*,!=2.1.*,!=2.2.*,!=2.3.0,<3.0.0,>=1.31.5->google-api-python-client) (2.5.0)\n",
            "Requirement already satisfied: certifi>=2017.4.17 in /usr/local/lib/python3.12/dist-packages (from requests<3.0.0,>=2.18.0->google-api-core!=2.0.*,!=2.1.*,!=2.2.*,!=2.3.0,<3.0.0,>=1.31.5->google-api-python-client) (2025.10.5)\n",
            "Requirement already satisfied: tqdm in /usr/local/lib/python3.12/dist-packages (4.67.1)\n"
          ]
        }
      ]
    },
    {
      "cell_type": "code",
      "source": [
        "from google.colab import userdata\n",
        "from googleapiclient.discovery import build\n",
        "import pandas as pd\n",
        "from tqdm import tqdm"
      ],
      "metadata": {
        "id": "2QtCgSLK6o6V"
      },
      "execution_count": 3,
      "outputs": []
    },
    {
      "cell_type": "code",
      "source": [
        "api_key = userdata.get('YouTube')  # ganti nama secret dengan nama yang sama di tab \"Rahasia\"\n",
        "youtube = build('youtube', 'v3', developerKey=api_key)\n",
        "\n",
        "print(\"Berhasil\")"
      ],
      "metadata": {
        "colab": {
          "base_uri": "https://localhost:8080/"
        },
        "id": "S6bmRwAo6pva",
        "outputId": "95447bab-ea3a-4aea-d933-3d92b04ebe73"
      },
      "execution_count": 4,
      "outputs": [
        {
          "output_type": "stream",
          "name": "stdout",
          "text": [
            "Berhasil\n"
          ]
        }
      ]
    },
    {
      "cell_type": "code",
      "source": [
        "# parameter pencarian video dengan kata kunci\n",
        "query = \"review makanan tiktokers\"\n",
        "max_komen_per_video = 50\n",
        "min_total_komen = 1000"
      ],
      "metadata": {
        "id": "NXRg-5ad63rk"
      },
      "execution_count": 5,
      "outputs": []
    },
    {
      "cell_type": "code",
      "source": [
        "videos = []\n",
        "next_page_token = None\n",
        "\n",
        "print(\"Mengambil daftar video berdasarkan kata kunci...\")\n",
        "while len(videos) < (min_total_komen // max_komen_per_video) + 5:\n",
        "    request = youtube.search().list(\n",
        "        q=query,\n",
        "        part=\"id,snippet\",\n",
        "        type=\"video\",\n",
        "        maxResults=50,\n",
        "        pageToken=next_page_token\n",
        "    )\n",
        "    response = request.execute()\n",
        "    videos += response[\"items\"]\n",
        "    next_page_token = response.get(\"nextPageToken\")\n",
        "    if not next_page_token:\n",
        "        break\n",
        "\n",
        "print(f\"Ditemukan {len(videos)} video terkait '{query}'\\n\")\n"
      ],
      "metadata": {
        "colab": {
          "base_uri": "https://localhost:8080/"
        },
        "id": "i3pdTL7O7kNA",
        "outputId": "f69a4114-1820-494c-ad42-07d908e748bc"
      },
      "execution_count": 6,
      "outputs": [
        {
          "output_type": "stream",
          "name": "stdout",
          "text": [
            "Mengambil daftar video berdasarkan kata kunci...\n",
            "Ditemukan 50 video terkait 'review makanan tiktokers'\n",
            "\n"
          ]
        }
      ]
    },
    {
      "cell_type": "code",
      "source": [
        "data_komen = []\n",
        "total_komen = 0\n",
        "\n",
        "for video in tqdm(videos, desc=\"Mengambil komentar\"):\n",
        "    video_id = video[\"id\"][\"videoId\"]\n",
        "    channel_name = video[\"snippet\"][\"channelTitle\"]\n",
        "    video_title = video[\"snippet\"][\"title\"]\n",
        "\n",
        "    next_page_token = None\n",
        "    count = 0\n",
        "\n",
        "    while count < max_komen_per_video:\n",
        "        request = youtube.commentThreads().list(\n",
        "            part=\"snippet\",\n",
        "            videoId=video_id,\n",
        "            maxResults=100,\n",
        "            pageToken=next_page_token,\n",
        "            textFormat=\"plainText\"\n",
        "        )\n",
        "        response = request.execute()\n",
        "\n",
        "        for item in response[\"items\"]:\n",
        "            comment = item[\"snippet\"][\"topLevelComment\"][\"snippet\"]\n",
        "            data_komen.append({\n",
        "                \"nama_channel\": channel_name,\n",
        "                \"judul_video\": video_title,\n",
        "                \"author\": comment[\"authorDisplayName\"],\n",
        "                \"komentar\": comment[\"textDisplay\"]\n",
        "            })\n",
        "            count += 1\n",
        "            total_komen += 1\n",
        "            if count >= max_komen_per_video:\n",
        "                break  # hanya berhenti per video\n",
        "\n",
        "        next_page_token = response.get(\"nextPageToken\")\n",
        "        if not next_page_token:\n",
        "            break  # komentar video habis\n",
        "\n",
        "print(f\"\\nTotal komentar terkumpul: {len(data_komen)}\")"
      ],
      "metadata": {
        "colab": {
          "base_uri": "https://localhost:8080/"
        },
        "id": "pDMOjMKsCAzW",
        "outputId": "51d7d647-1045-4573-f2b4-c4c4a1161435"
      },
      "execution_count": 7,
      "outputs": [
        {
          "output_type": "stream",
          "name": "stderr",
          "text": [
            "Mengambil komentar: 100%|██████████| 50/50 [00:09<00:00,  5.48it/s]"
          ]
        },
        {
          "output_type": "stream",
          "name": "stdout",
          "text": [
            "\n",
            "Total komentar terkumpul: 2152\n"
          ]
        },
        {
          "output_type": "stream",
          "name": "stderr",
          "text": [
            "\n"
          ]
        }
      ]
    },
    {
      "cell_type": "markdown",
      "source": [
        "## Preprocessing"
      ],
      "metadata": {
        "id": "kYVM-ulohfy3"
      }
    },
    {
      "cell_type": "code",
      "source": [
        "!pip install nltk\n",
        "!pip install Sastrawi"
      ],
      "metadata": {
        "colab": {
          "base_uri": "https://localhost:8080/"
        },
        "id": "1U9LGJSqhyHI",
        "outputId": "362ee0be-6d54-42ce-a337-d611f9d523ca"
      },
      "execution_count": 8,
      "outputs": [
        {
          "output_type": "stream",
          "name": "stdout",
          "text": [
            "Requirement already satisfied: nltk in /usr/local/lib/python3.12/dist-packages (3.9.1)\n",
            "Requirement already satisfied: click in /usr/local/lib/python3.12/dist-packages (from nltk) (8.3.0)\n",
            "Requirement already satisfied: joblib in /usr/local/lib/python3.12/dist-packages (from nltk) (1.5.2)\n",
            "Requirement already satisfied: regex>=2021.8.3 in /usr/local/lib/python3.12/dist-packages (from nltk) (2024.11.6)\n",
            "Requirement already satisfied: tqdm in /usr/local/lib/python3.12/dist-packages (from nltk) (4.67.1)\n",
            "Collecting Sastrawi\n",
            "  Downloading Sastrawi-1.0.1-py2.py3-none-any.whl.metadata (909 bytes)\n",
            "Downloading Sastrawi-1.0.1-py2.py3-none-any.whl (209 kB)\n",
            "\u001b[2K   \u001b[90m━━━━━━━━━━━━━━━━━━━━━━━━━━━━━━━━━━━━━━━━\u001b[0m \u001b[32m209.7/209.7 kB\u001b[0m \u001b[31m5.3 MB/s\u001b[0m eta \u001b[36m0:00:00\u001b[0m\n",
            "\u001b[?25hInstalling collected packages: Sastrawi\n",
            "Successfully installed Sastrawi-1.0.1\n"
          ]
        }
      ]
    },
    {
      "cell_type": "code",
      "source": [
        "import nltk\n",
        "from nltk.corpus import stopwords\n",
        "from Sastrawi.Stemmer.StemmerFactory import StemmerFactory\n",
        "import re"
      ],
      "metadata": {
        "id": "Z3Wa2tYehoYG"
      },
      "execution_count": 9,
      "outputs": []
    },
    {
      "cell_type": "code",
      "source": [
        "nltk.download(\"punkt\")\n",
        "nltk.download(\"punkt_tab\")\n",
        "nltk.download(\"stopwords\")"
      ],
      "metadata": {
        "colab": {
          "base_uri": "https://localhost:8080/"
        },
        "id": "Bijv9BHHh7F5",
        "outputId": "027f5b66-be25-494a-de9a-cbb9ca0e57ef"
      },
      "execution_count": 10,
      "outputs": [
        {
          "output_type": "stream",
          "name": "stderr",
          "text": [
            "[nltk_data] Downloading package punkt to /root/nltk_data...\n",
            "[nltk_data]   Unzipping tokenizers/punkt.zip.\n",
            "[nltk_data] Downloading package punkt_tab to /root/nltk_data...\n",
            "[nltk_data]   Unzipping tokenizers/punkt_tab.zip.\n",
            "[nltk_data] Downloading package stopwords to /root/nltk_data...\n",
            "[nltk_data]   Unzipping corpora/stopwords.zip.\n"
          ]
        },
        {
          "output_type": "execute_result",
          "data": {
            "text/plain": [
              "True"
            ]
          },
          "metadata": {},
          "execution_count": 10
        }
      ]
    },
    {
      "cell_type": "code",
      "source": [
        "stop_words = set(stopwords.words(\"indonesian\"))\n",
        "stemmer = StemmerFactory().create_stemmer()"
      ],
      "metadata": {
        "id": "78fFZ4q_iQBa"
      },
      "execution_count": 11,
      "outputs": []
    },
    {
      "cell_type": "code",
      "source": [
        "df = pd.DataFrame(data_komen)"
      ],
      "metadata": {
        "id": "umHV9HREiXeb"
      },
      "execution_count": 12,
      "outputs": []
    },
    {
      "cell_type": "code",
      "source": [
        "# Casefolding\n",
        "df[\"casefolding\"] = df[\"komentar\"].str.casefold() #mengubah huruf menjadi kecil"
      ],
      "metadata": {
        "id": "TCqswR6N8xBi"
      },
      "execution_count": 13,
      "outputs": []
    },
    {
      "cell_type": "code",
      "source": [
        "# Stripping\n",
        "df[\"stripping\"] = df[\"casefolding\"].str.strip()"
      ],
      "metadata": {
        "id": "06QFAnCdlrL2"
      },
      "execution_count": 14,
      "outputs": []
    },
    {
      "cell_type": "code",
      "source": [
        "normalisasi_dict = {\n",
        "    \"gak\": \"tidak\",\n",
        "    \"ga\": \"tidak\",\n",
        "    \"nggak\": \"tidak\",\n",
        "    \"ngga\": \"tidak\",\n",
        "    \"engga\": \"tidak\",\n",
        "    \"enggak\": \"tidak\",\n",
        "    \"tdk\": \"tidak\",\n",
        "    \"tak\": \"tidak\",\n",
        "    \"kagak\": \"tidak\",\n",
        "    \"bgt\": \"banget\",\n",
        "    \"bngt\": \"banget\",\n",
        "    \"bgd\": \"banget\",\n",
        "    \"bet\": \"banget\",\n",
        "    \"amat\": \"banget\",\n",
        "    \"parah\": \"banget\",\n",
        "    \"abis\": \"banget\",\n",
        "    \"abiz\": \"banget\",\n",
        "    \"aj\": \"saja\",\n",
        "    \"aja\": \"saja\",\n",
        "    \"doang\": \"saja\",\n",
        "    \"tok\": \"saja\",\n",
        "    \"doa\": \"saja\",\n",
        "    \"udh\": \"sudah\",\n",
        "    \"sdh\": \"sudah\",\n",
        "    \"dah\": \"sudah\",\n",
        "    \"udah\": \"sudah\",\n",
        "    \"dahh\": \"sudah\",\n",
        "    \"uda\": \"sudah\",\n",
        "    \"ud\": \"sudah\",\n",
        "    \"yg\": \"yang\",\n",
        "    \"yng\": \"yang\",\n",
        "    \"y\": \"yang\",\n",
        "    \"dgn\": \"dengan\",\n",
        "    \"dg\": \"dengan\",\n",
        "    \"sm\": \"sama\",\n",
        "    \"ama\": \"sama\",\n",
        "    \"ma\": \"sama\",\n",
        "    \"sy\": \"saya\",\n",
        "    \"gue\": \"saya\",\n",
        "    \"gua\": \"saya\",\n",
        "    \"aq\": \"saya\",\n",
        "    \"aqi\": \"saya\",\n",
        "    \"aqh\": \"saya\",\n",
        "    \"gws\": \"semoga cepat sembuh\",\n",
        "    \"brb\": \"sebentar\",\n",
        "    \"btw\": \"ngomong-ngomong\",\n",
        "    \"bentar\": \"sebentar\",\n",
        "    \"sebntar\": \"sebentar\",\n",
        "    \"ntar\": \"nanti\",\n",
        "    \"ntr\": \"nanti\",\n",
        "    \"trs\": \"terus\",\n",
        "    \"trus\": \"terus\",\n",
        "    \"tros\": \"terus\",\n",
        "    \"lg\": \"lagi\",\n",
        "    \"lgi\": \"lagi\",\n",
        "    \"lagi2\": \"lagi-lagi\",\n",
        "    \"dl\": \"dulu\",\n",
        "    \"dlu\": \"dulu\",\n",
        "    \"dul\": \"dulu\",\n",
        "    \"td\": \"tadi\",\n",
        "    \"tadi2\": \"tadi-tadi\",\n",
        "    \"klo\": \"kalau\",\n",
        "    \"kl\": \"kalau\",\n",
        "    \"kaloo\": \"kalau\",\n",
        "    \"kalo\": \"kalau\",\n",
        "    \"klw\": \"kalau\",\n",
        "    \"klu\": \"kalau\",\n",
        "    \"gmn\": \"bagaimana\",\n",
        "    \"gmnich\": \"bagaimana\",\n",
        "    \"gmnsi\": \"bagaimana\",\n",
        "    \"gmna\": \"bagaimana\",\n",
        "    \"bsk\": \"besok\",\n",
        "    \"besok2\": \"besok-besok\",\n",
        "    \"bsok\": \"besok\",\n",
        "    \"kmrn\": \"kemarin\",\n",
        "    \"kmrn2\": \"kemarin-kemarin\",\n",
        "    \"kmrin\": \"kemarin\",\n",
        "    \"kmrnku\": \"kemarinku\",\n",
        "    \"knp\": \"kenapa\",\n",
        "    \"kenpa\": \"kenapa\",\n",
        "    \"kenap\": \"kenapa\",\n",
        "    \"kenapaa\": \"kenapa\",\n",
        "    \"tp\": \"tapi\",\n",
        "    \"tpi\": \"tapi\",\n",
        "    \"tpn\": \"tapi\",\n",
        "    \"skr\": \"sekarang\",\n",
        "    \"skrg\": \"sekarang\",\n",
        "    \"skang\": \"sekarang\",\n",
        "    \"skg\": \"sekarang\",\n",
        "    \"skrng\": \"sekarang\",\n",
        "    \"dr\": \"dari\",\n",
        "    \"drpd\": \"daripada\",\n",
        "    \"dri\": \"dari\",\n",
        "    \"dran\": \"dari\",\n",
        "    \"dgini\": \"begini\",\n",
        "    \"bgini\": \"begini\",\n",
        "    \"bgitu\": \"begitu\",\n",
        "    \"gitu\": \"begitu\",\n",
        "    \"gini\": \"begini\",\n",
        "    \"kyk\": \"seperti\",\n",
        "    \"kaya\": \"seperti\",\n",
        "    \"sprti\": \"seperti\",\n",
        "    \"ky\": \"seperti\",\n",
        "    \"spt\": \"seperti\",\n",
        "    \"smngat\": \"semangat\",\n",
        "    \"semngt\": \"semangat\",\n",
        "    \"semgt\": \"semangat\",\n",
        "    \"smangat\": \"semangat\",\n",
        "    \"plis\": \"tolong\",\n",
        "    \"tolongin\": \"tolong\",\n",
        "    \"plz\": \"tolong\",\n",
        "    \"please\": \"tolong\",\n",
        "    \"pliss\": \"tolong\",\n",
        "    \"pls\": \"tolong\",\n",
        "    \"plszz\": \"tolong\",\n",
        "    \"makasi\": \"terima kasih\",\n",
        "    \"mksh\": \"terima kasih\",\n",
        "    \"makasih\": \"terima kasih\",\n",
        "    \"mksih\": \"terima kasih\",\n",
        "    \"thx\": \"terima kasih\",\n",
        "    \"thanks\": \"terima kasih\",\n",
        "    \"trims\": \"terima kasih\",\n",
        "    \"trimakasih\": \"terima kasih\",\n",
        "    \"tq\": \"terima kasih\",\n",
        "    \"cpt\": \"cepat\",\n",
        "    \"cepet\": \"cepat\",\n",
        "    \"cptan\": \"cepat\",\n",
        "    \"cpt2\": \"cepat-cepat\",\n",
        "    \"brasa\": \"berasa\",   # tambahan dari kamu\n",
        "    \"berasa\": \"berasa\"   # supaya aman\n",
        "}"
      ],
      "metadata": {
        "id": "arM-Y0gG4iuL"
      },
      "execution_count": 15,
      "outputs": []
    },
    {
      "cell_type": "code",
      "source": [
        "# normalisasi\n",
        "normalisasi = pd.read_excel(\"kamus_normalisasi.xlsx\")\n",
        "normalisasi_dict = {}\n",
        "for index, row in normalisasi.iterrows():\n",
        "    normalisasi_dict[str(row.iloc[0])] = str(row.iloc[1])\n",
        "\n",
        "\n",
        "def normalize_text(text):\n",
        "    if not isinstance(text, str):\n",
        "        return \"\"\n",
        "    words = text.split()\n",
        "    normalized = []\n",
        "    for word in words:\n",
        "        normalized.append(normalisasi_dict.get(word, word))\n",
        "    return \" \".join(normalized)\n",
        "\n",
        "df[\"normalisasi\"] = df[\"stripping\"].apply(normalize_text)"
      ],
      "metadata": {
        "id": "3QYppY4z5u_u"
      },
      "execution_count": 16,
      "outputs": []
    },
    {
      "cell_type": "code",
      "source": [
        "# Tokenizing\n",
        "df[\"tokenizing\"] = df[\"normalisasi\"].apply(lambda x: nltk.word_tokenize(re.sub(r\"[^a-zA-Z0-9]\", \" \", x)))"
      ],
      "metadata": {
        "id": "_CMO9UAyjCHN"
      },
      "execution_count": 17,
      "outputs": []
    },
    {
      "cell_type": "code",
      "source": [
        "# Stopword\n",
        "df[\"stopword_removal\"] = df[\"tokenizing\"].apply(lambda x: [w for w in x if w not in stop_words])"
      ],
      "metadata": {
        "id": "qJ5f3-nGjQMO"
      },
      "execution_count": 18,
      "outputs": []
    },
    {
      "cell_type": "code",
      "source": [
        "# Stemming (Sastrawi)\n",
        "df[\"stemming\"] = df[\"stopword_removal\"].apply(lambda x: [stemmer.stem(w) for w in x])"
      ],
      "metadata": {
        "id": "B4putExBjSVI"
      },
      "execution_count": 19,
      "outputs": []
    },
    {
      "cell_type": "code",
      "source": [
        "# Hapus huruf triple atau ebih\n",
        "df[\"no_repeated\"] = df[\"stemming\"].astype(str).apply(\n",
        "    lambda x: re.sub(r'(.)\\1{2,}', r'\\1', x))"
      ],
      "metadata": {
        "id": "KG4-Nejw9rt0"
      },
      "execution_count": 30,
      "outputs": []
    },
    {
      "cell_type": "code",
      "source": [
        "df.head(10)"
      ],
      "metadata": {
        "colab": {
          "base_uri": "https://localhost:8080/",
          "height": 1000
        },
        "id": "4ilA78wiEeYK",
        "outputId": "8b4cbe19-7edf-4973-e549-9d3e43157cd1"
      },
      "execution_count": 31,
      "outputs": [
        {
          "output_type": "execute_result",
          "data": {
            "text/plain": [
              "     nama_channel                                judul_video  \\\n",
              "0  Pebbi Lieyanti  BELI SEMUA MAKANAN VIRAL TIKTOK, PART 31!   \n",
              "1  Pebbi Lieyanti  BELI SEMUA MAKANAN VIRAL TIKTOK, PART 31!   \n",
              "2  Pebbi Lieyanti  BELI SEMUA MAKANAN VIRAL TIKTOK, PART 31!   \n",
              "3  Pebbi Lieyanti  BELI SEMUA MAKANAN VIRAL TIKTOK, PART 31!   \n",
              "4  Pebbi Lieyanti  BELI SEMUA MAKANAN VIRAL TIKTOK, PART 31!   \n",
              "5  Pebbi Lieyanti  BELI SEMUA MAKANAN VIRAL TIKTOK, PART 31!   \n",
              "6  Pebbi Lieyanti  BELI SEMUA MAKANAN VIRAL TIKTOK, PART 31!   \n",
              "7  Pebbi Lieyanti  BELI SEMUA MAKANAN VIRAL TIKTOK, PART 31!   \n",
              "8  Pebbi Lieyanti  BELI SEMUA MAKANAN VIRAL TIKTOK, PART 31!   \n",
              "9  Pebbi Lieyanti  BELI SEMUA MAKANAN VIRAL TIKTOK, PART 31!   \n",
              "\n",
              "                author                                           komentar  \\\n",
              "0      @sugiartisunoto                     akuu baru tauu kaka uda nikahh   \n",
              "1       @Ayaww-channel                                   knp aga gelap ka   \n",
              "2      @Firasafira-o7p  kaa masukan nih yaa\\naudionya benahin ka, enta...   \n",
              "3      @Flowerblue-h5e                         Kak plis membeli mainan ❤🎉   \n",
              "4    @TEGARGanteng-j7s         Kak pebbi makan makanan berhadiah dong 😅😅😅   \n",
              "5  @britneydexfine4853                                             gacorr   \n",
              "6   @AlzeynAbhiChandra                    Ci bikin konten make up lagi ci   \n",
              "7    @24_AmeliaSusanti  Kakkkk coba semua makanan khas balii gasiii ru...   \n",
              "8          @matchaa432            3:41 aku udah pernah coba enak banget 🎉   \n",
              "9          @Amle-w2mlg                                 Hmm nng gn gn😂😂❤❤❤   \n",
              "\n",
              "                                         casefolding  \\\n",
              "0                     akuu baru tauu kaka uda nikahh   \n",
              "1                                   knp aga gelap ka   \n",
              "2  kaa masukan nih yaa\\naudionya benahin ka, enta...   \n",
              "3                         kak plis membeli mainan ❤🎉   \n",
              "4         kak pebbi makan makanan berhadiah dong 😅😅😅   \n",
              "5                                             gacorr   \n",
              "6                    ci bikin konten make up lagi ci   \n",
              "7  kakkkk coba semua makanan khas balii gasiii ru...   \n",
              "8            3:41 aku udah pernah coba enak banget 🎉   \n",
              "9                                 hmm nng gn gn😂😂❤❤❤   \n",
              "\n",
              "                                           stripping  \\\n",
              "0                     akuu baru tauu kaka uda nikahh   \n",
              "1                                   knp aga gelap ka   \n",
              "2  kaa masukan nih yaa\\naudionya benahin ka, enta...   \n",
              "3                         kak plis membeli mainan ❤🎉   \n",
              "4         kak pebbi makan makanan berhadiah dong 😅😅😅   \n",
              "5                                             gacorr   \n",
              "6                    ci bikin konten make up lagi ci   \n",
              "7  kakkkk coba semua makanan khas balii gasiii ru...   \n",
              "8            3:41 aku udah pernah coba enak banget 🎉   \n",
              "9                                 hmm nng gn gn😂😂❤❤❤   \n",
              "\n",
              "                                         normalisasi  \\\n",
              "0                   akuu baru tauu kaka sudah nikahh   \n",
              "1                                kenapa aga gelap ka   \n",
              "2  kaa masukan nan yaa audionya benahin ka, entah...   \n",
              "3                       kak tolong membeli mainan ❤🎉   \n",
              "4          kak pebbi makan makanan berhadiah nan 😅😅😅   \n",
              "5                                             gacorr   \n",
              "6                    ci bikin konten make up lagi ci   \n",
              "7  kakkkk coba semua makanan khas balii gasiii ru...   \n",
              "8           3:41 aku sudah pernah coba enak banget 🎉   \n",
              "9                                 hmm nng gn gn😂😂❤❤❤   \n",
              "\n",
              "                                          tokenizing  \\\n",
              "0            [akuu, baru, tauu, kaka, sudah, nikahh]   \n",
              "1                           [kenapa, aga, gelap, ka]   \n",
              "2  [kaa, masukan, nan, yaa, audionya, benahin, ka...   \n",
              "3                     [kak, tolong, membeli, mainan]   \n",
              "4       [kak, pebbi, makan, makanan, berhadiah, nan]   \n",
              "5                                           [gacorr]   \n",
              "6            [ci, bikin, konten, make, up, lagi, ci]   \n",
              "7  [kakkkk, coba, semua, makanan, khas, balii, ga...   \n",
              "8    [3, 41, aku, sudah, pernah, coba, enak, banget]   \n",
              "9                                 [hmm, nng, gn, gn]   \n",
              "\n",
              "                                    stopword_removal  \\\n",
              "0                         [akuu, tauu, kaka, nikahh]   \n",
              "1                                   [aga, gelap, ka]   \n",
              "2  [kaa, masukan, nan, yaa, audionya, benahin, ka...   \n",
              "3                     [kak, tolong, membeli, mainan]   \n",
              "4       [kak, pebbi, makan, makanan, berhadiah, nan]   \n",
              "5                                           [gacorr]   \n",
              "6                  [ci, bikin, konten, make, up, ci]   \n",
              "7  [kakkkk, coba, makanan, khas, balii, gasiii, r...   \n",
              "8                        [3, 41, coba, enak, banget]   \n",
              "9                                 [hmm, nng, gn, gn]   \n",
              "\n",
              "                                            stemming  \\\n",
              "0                         [akuu, tauu, kaka, nikahh]   \n",
              "1                                   [aga, gelap, ka]   \n",
              "2  [kaa, masuk, nan, yaa, audio, benahin, ka, mic...   \n",
              "3                          [kak, tolong, beli, main]   \n",
              "4            [kak, pebbi, makan, makan, hadiah, nan]   \n",
              "5                                           [gacorr]   \n",
              "6                  [ci, bikin, konten, make, up, ci]   \n",
              "7  [kakkkk, coba, makan, khas, balii, gasiii, ruj...   \n",
              "8                        [3, 41, coba, enak, banget]   \n",
              "9                                 [hmm, nng, gn, gn]   \n",
              "\n",
              "                                         no_repeated  \n",
              "0                 ['akuu', 'tauu', 'kaka', 'nikahh']  \n",
              "1                             ['aga', 'gelap', 'ka']  \n",
              "2  ['kaa', 'masuk', 'nan', 'yaa', 'audio', 'benah...  \n",
              "3                  ['kak', 'tolong', 'beli', 'main']  \n",
              "4  ['kak', 'pebbi', 'makan', 'makan', 'hadiah', '...  \n",
              "5                                         ['gacorr']  \n",
              "6      ['ci', 'bikin', 'konten', 'make', 'up', 'ci']  \n",
              "7  ['kak', 'coba', 'makan', 'khas', 'balii', 'gas...  \n",
              "8              ['3', '41', 'coba', 'enak', 'banget']  \n",
              "9                         ['hmm', 'nng', 'gn', 'gn']  "
            ],
            "text/html": [
              "\n",
              "  <div id=\"df-5c04566c-1e11-4a38-8028-18a2f2092631\" class=\"colab-df-container\">\n",
              "    <div>\n",
              "<style scoped>\n",
              "    .dataframe tbody tr th:only-of-type {\n",
              "        vertical-align: middle;\n",
              "    }\n",
              "\n",
              "    .dataframe tbody tr th {\n",
              "        vertical-align: top;\n",
              "    }\n",
              "\n",
              "    .dataframe thead th {\n",
              "        text-align: right;\n",
              "    }\n",
              "</style>\n",
              "<table border=\"1\" class=\"dataframe\">\n",
              "  <thead>\n",
              "    <tr style=\"text-align: right;\">\n",
              "      <th></th>\n",
              "      <th>nama_channel</th>\n",
              "      <th>judul_video</th>\n",
              "      <th>author</th>\n",
              "      <th>komentar</th>\n",
              "      <th>casefolding</th>\n",
              "      <th>stripping</th>\n",
              "      <th>normalisasi</th>\n",
              "      <th>tokenizing</th>\n",
              "      <th>stopword_removal</th>\n",
              "      <th>stemming</th>\n",
              "      <th>no_repeated</th>\n",
              "    </tr>\n",
              "  </thead>\n",
              "  <tbody>\n",
              "    <tr>\n",
              "      <th>0</th>\n",
              "      <td>Pebbi Lieyanti</td>\n",
              "      <td>BELI SEMUA MAKANAN VIRAL TIKTOK, PART 31!</td>\n",
              "      <td>@sugiartisunoto</td>\n",
              "      <td>akuu baru tauu kaka uda nikahh</td>\n",
              "      <td>akuu baru tauu kaka uda nikahh</td>\n",
              "      <td>akuu baru tauu kaka uda nikahh</td>\n",
              "      <td>akuu baru tauu kaka sudah nikahh</td>\n",
              "      <td>[akuu, baru, tauu, kaka, sudah, nikahh]</td>\n",
              "      <td>[akuu, tauu, kaka, nikahh]</td>\n",
              "      <td>[akuu, tauu, kaka, nikahh]</td>\n",
              "      <td>['akuu', 'tauu', 'kaka', 'nikahh']</td>\n",
              "    </tr>\n",
              "    <tr>\n",
              "      <th>1</th>\n",
              "      <td>Pebbi Lieyanti</td>\n",
              "      <td>BELI SEMUA MAKANAN VIRAL TIKTOK, PART 31!</td>\n",
              "      <td>@Ayaww-channel</td>\n",
              "      <td>knp aga gelap ka</td>\n",
              "      <td>knp aga gelap ka</td>\n",
              "      <td>knp aga gelap ka</td>\n",
              "      <td>kenapa aga gelap ka</td>\n",
              "      <td>[kenapa, aga, gelap, ka]</td>\n",
              "      <td>[aga, gelap, ka]</td>\n",
              "      <td>[aga, gelap, ka]</td>\n",
              "      <td>['aga', 'gelap', 'ka']</td>\n",
              "    </tr>\n",
              "    <tr>\n",
              "      <th>2</th>\n",
              "      <td>Pebbi Lieyanti</td>\n",
              "      <td>BELI SEMUA MAKANAN VIRAL TIKTOK, PART 31!</td>\n",
              "      <td>@Firasafira-o7p</td>\n",
              "      <td>kaa masukan nih yaa\\naudionya benahin ka, enta...</td>\n",
              "      <td>kaa masukan nih yaa\\naudionya benahin ka, enta...</td>\n",
              "      <td>kaa masukan nih yaa\\naudionya benahin ka, enta...</td>\n",
              "      <td>kaa masukan nan yaa audionya benahin ka, entah...</td>\n",
              "      <td>[kaa, masukan, nan, yaa, audionya, benahin, ka...</td>\n",
              "      <td>[kaa, masukan, nan, yaa, audionya, benahin, ka...</td>\n",
              "      <td>[kaa, masuk, nan, yaa, audio, benahin, ka, mic...</td>\n",
              "      <td>['kaa', 'masuk', 'nan', 'yaa', 'audio', 'benah...</td>\n",
              "    </tr>\n",
              "    <tr>\n",
              "      <th>3</th>\n",
              "      <td>Pebbi Lieyanti</td>\n",
              "      <td>BELI SEMUA MAKANAN VIRAL TIKTOK, PART 31!</td>\n",
              "      <td>@Flowerblue-h5e</td>\n",
              "      <td>Kak plis membeli mainan ❤🎉</td>\n",
              "      <td>kak plis membeli mainan ❤🎉</td>\n",
              "      <td>kak plis membeli mainan ❤🎉</td>\n",
              "      <td>kak tolong membeli mainan ❤🎉</td>\n",
              "      <td>[kak, tolong, membeli, mainan]</td>\n",
              "      <td>[kak, tolong, membeli, mainan]</td>\n",
              "      <td>[kak, tolong, beli, main]</td>\n",
              "      <td>['kak', 'tolong', 'beli', 'main']</td>\n",
              "    </tr>\n",
              "    <tr>\n",
              "      <th>4</th>\n",
              "      <td>Pebbi Lieyanti</td>\n",
              "      <td>BELI SEMUA MAKANAN VIRAL TIKTOK, PART 31!</td>\n",
              "      <td>@TEGARGanteng-j7s</td>\n",
              "      <td>Kak pebbi makan makanan berhadiah dong 😅😅😅</td>\n",
              "      <td>kak pebbi makan makanan berhadiah dong 😅😅😅</td>\n",
              "      <td>kak pebbi makan makanan berhadiah dong 😅😅😅</td>\n",
              "      <td>kak pebbi makan makanan berhadiah nan 😅😅😅</td>\n",
              "      <td>[kak, pebbi, makan, makanan, berhadiah, nan]</td>\n",
              "      <td>[kak, pebbi, makan, makanan, berhadiah, nan]</td>\n",
              "      <td>[kak, pebbi, makan, makan, hadiah, nan]</td>\n",
              "      <td>['kak', 'pebbi', 'makan', 'makan', 'hadiah', '...</td>\n",
              "    </tr>\n",
              "    <tr>\n",
              "      <th>5</th>\n",
              "      <td>Pebbi Lieyanti</td>\n",
              "      <td>BELI SEMUA MAKANAN VIRAL TIKTOK, PART 31!</td>\n",
              "      <td>@britneydexfine4853</td>\n",
              "      <td>gacorr</td>\n",
              "      <td>gacorr</td>\n",
              "      <td>gacorr</td>\n",
              "      <td>gacorr</td>\n",
              "      <td>[gacorr]</td>\n",
              "      <td>[gacorr]</td>\n",
              "      <td>[gacorr]</td>\n",
              "      <td>['gacorr']</td>\n",
              "    </tr>\n",
              "    <tr>\n",
              "      <th>6</th>\n",
              "      <td>Pebbi Lieyanti</td>\n",
              "      <td>BELI SEMUA MAKANAN VIRAL TIKTOK, PART 31!</td>\n",
              "      <td>@AlzeynAbhiChandra</td>\n",
              "      <td>Ci bikin konten make up lagi ci</td>\n",
              "      <td>ci bikin konten make up lagi ci</td>\n",
              "      <td>ci bikin konten make up lagi ci</td>\n",
              "      <td>ci bikin konten make up lagi ci</td>\n",
              "      <td>[ci, bikin, konten, make, up, lagi, ci]</td>\n",
              "      <td>[ci, bikin, konten, make, up, ci]</td>\n",
              "      <td>[ci, bikin, konten, make, up, ci]</td>\n",
              "      <td>['ci', 'bikin', 'konten', 'make', 'up', 'ci']</td>\n",
              "    </tr>\n",
              "    <tr>\n",
              "      <th>7</th>\n",
              "      <td>Pebbi Lieyanti</td>\n",
              "      <td>BELI SEMUA MAKANAN VIRAL TIKTOK, PART 31!</td>\n",
              "      <td>@24_AmeliaSusanti</td>\n",
              "      <td>Kakkkk coba semua makanan khas balii gasiii ru...</td>\n",
              "      <td>kakkkk coba semua makanan khas balii gasiii ru...</td>\n",
              "      <td>kakkkk coba semua makanan khas balii gasiii ru...</td>\n",
              "      <td>kakkkk coba semua makanan khas balii gasiii ru...</td>\n",
              "      <td>[kakkkk, coba, semua, makanan, khas, balii, ga...</td>\n",
              "      <td>[kakkkk, coba, makanan, khas, balii, gasiii, r...</td>\n",
              "      <td>[kakkkk, coba, makan, khas, balii, gasiii, ruj...</td>\n",
              "      <td>['kak', 'coba', 'makan', 'khas', 'balii', 'gas...</td>\n",
              "    </tr>\n",
              "    <tr>\n",
              "      <th>8</th>\n",
              "      <td>Pebbi Lieyanti</td>\n",
              "      <td>BELI SEMUA MAKANAN VIRAL TIKTOK, PART 31!</td>\n",
              "      <td>@matchaa432</td>\n",
              "      <td>3:41 aku udah pernah coba enak banget 🎉</td>\n",
              "      <td>3:41 aku udah pernah coba enak banget 🎉</td>\n",
              "      <td>3:41 aku udah pernah coba enak banget 🎉</td>\n",
              "      <td>3:41 aku sudah pernah coba enak banget 🎉</td>\n",
              "      <td>[3, 41, aku, sudah, pernah, coba, enak, banget]</td>\n",
              "      <td>[3, 41, coba, enak, banget]</td>\n",
              "      <td>[3, 41, coba, enak, banget]</td>\n",
              "      <td>['3', '41', 'coba', 'enak', 'banget']</td>\n",
              "    </tr>\n",
              "    <tr>\n",
              "      <th>9</th>\n",
              "      <td>Pebbi Lieyanti</td>\n",
              "      <td>BELI SEMUA MAKANAN VIRAL TIKTOK, PART 31!</td>\n",
              "      <td>@Amle-w2mlg</td>\n",
              "      <td>Hmm nng gn gn😂😂❤❤❤</td>\n",
              "      <td>hmm nng gn gn😂😂❤❤❤</td>\n",
              "      <td>hmm nng gn gn😂😂❤❤❤</td>\n",
              "      <td>hmm nng gn gn😂😂❤❤❤</td>\n",
              "      <td>[hmm, nng, gn, gn]</td>\n",
              "      <td>[hmm, nng, gn, gn]</td>\n",
              "      <td>[hmm, nng, gn, gn]</td>\n",
              "      <td>['hmm', 'nng', 'gn', 'gn']</td>\n",
              "    </tr>\n",
              "  </tbody>\n",
              "</table>\n",
              "</div>\n",
              "    <div class=\"colab-df-buttons\">\n",
              "\n",
              "  <div class=\"colab-df-container\">\n",
              "    <button class=\"colab-df-convert\" onclick=\"convertToInteractive('df-5c04566c-1e11-4a38-8028-18a2f2092631')\"\n",
              "            title=\"Convert this dataframe to an interactive table.\"\n",
              "            style=\"display:none;\">\n",
              "\n",
              "  <svg xmlns=\"http://www.w3.org/2000/svg\" height=\"24px\" viewBox=\"0 -960 960 960\">\n",
              "    <path d=\"M120-120v-720h720v720H120Zm60-500h600v-160H180v160Zm220 220h160v-160H400v160Zm0 220h160v-160H400v160ZM180-400h160v-160H180v160Zm440 0h160v-160H620v160ZM180-180h160v-160H180v160Zm440 0h160v-160H620v160Z\"/>\n",
              "  </svg>\n",
              "    </button>\n",
              "\n",
              "  <style>\n",
              "    .colab-df-container {\n",
              "      display:flex;\n",
              "      gap: 12px;\n",
              "    }\n",
              "\n",
              "    .colab-df-convert {\n",
              "      background-color: #E8F0FE;\n",
              "      border: none;\n",
              "      border-radius: 50%;\n",
              "      cursor: pointer;\n",
              "      display: none;\n",
              "      fill: #1967D2;\n",
              "      height: 32px;\n",
              "      padding: 0 0 0 0;\n",
              "      width: 32px;\n",
              "    }\n",
              "\n",
              "    .colab-df-convert:hover {\n",
              "      background-color: #E2EBFA;\n",
              "      box-shadow: 0px 1px 2px rgba(60, 64, 67, 0.3), 0px 1px 3px 1px rgba(60, 64, 67, 0.15);\n",
              "      fill: #174EA6;\n",
              "    }\n",
              "\n",
              "    .colab-df-buttons div {\n",
              "      margin-bottom: 4px;\n",
              "    }\n",
              "\n",
              "    [theme=dark] .colab-df-convert {\n",
              "      background-color: #3B4455;\n",
              "      fill: #D2E3FC;\n",
              "    }\n",
              "\n",
              "    [theme=dark] .colab-df-convert:hover {\n",
              "      background-color: #434B5C;\n",
              "      box-shadow: 0px 1px 3px 1px rgba(0, 0, 0, 0.15);\n",
              "      filter: drop-shadow(0px 1px 2px rgba(0, 0, 0, 0.3));\n",
              "      fill: #FFFFFF;\n",
              "    }\n",
              "  </style>\n",
              "\n",
              "    <script>\n",
              "      const buttonEl =\n",
              "        document.querySelector('#df-5c04566c-1e11-4a38-8028-18a2f2092631 button.colab-df-convert');\n",
              "      buttonEl.style.display =\n",
              "        google.colab.kernel.accessAllowed ? 'block' : 'none';\n",
              "\n",
              "      async function convertToInteractive(key) {\n",
              "        const element = document.querySelector('#df-5c04566c-1e11-4a38-8028-18a2f2092631');\n",
              "        const dataTable =\n",
              "          await google.colab.kernel.invokeFunction('convertToInteractive',\n",
              "                                                    [key], {});\n",
              "        if (!dataTable) return;\n",
              "\n",
              "        const docLinkHtml = 'Like what you see? Visit the ' +\n",
              "          '<a target=\"_blank\" href=https://colab.research.google.com/notebooks/data_table.ipynb>data table notebook</a>'\n",
              "          + ' to learn more about interactive tables.';\n",
              "        element.innerHTML = '';\n",
              "        dataTable['output_type'] = 'display_data';\n",
              "        await google.colab.output.renderOutput(dataTable, element);\n",
              "        const docLink = document.createElement('div');\n",
              "        docLink.innerHTML = docLinkHtml;\n",
              "        element.appendChild(docLink);\n",
              "      }\n",
              "    </script>\n",
              "  </div>\n",
              "\n",
              "\n",
              "    <div id=\"df-2be96968-252c-4a73-a49e-bc5d004a36b8\">\n",
              "      <button class=\"colab-df-quickchart\" onclick=\"quickchart('df-2be96968-252c-4a73-a49e-bc5d004a36b8')\"\n",
              "                title=\"Suggest charts\"\n",
              "                style=\"display:none;\">\n",
              "\n",
              "<svg xmlns=\"http://www.w3.org/2000/svg\" height=\"24px\"viewBox=\"0 0 24 24\"\n",
              "     width=\"24px\">\n",
              "    <g>\n",
              "        <path d=\"M19 3H5c-1.1 0-2 .9-2 2v14c0 1.1.9 2 2 2h14c1.1 0 2-.9 2-2V5c0-1.1-.9-2-2-2zM9 17H7v-7h2v7zm4 0h-2V7h2v10zm4 0h-2v-4h2v4z\"/>\n",
              "    </g>\n",
              "</svg>\n",
              "      </button>\n",
              "\n",
              "<style>\n",
              "  .colab-df-quickchart {\n",
              "      --bg-color: #E8F0FE;\n",
              "      --fill-color: #1967D2;\n",
              "      --hover-bg-color: #E2EBFA;\n",
              "      --hover-fill-color: #174EA6;\n",
              "      --disabled-fill-color: #AAA;\n",
              "      --disabled-bg-color: #DDD;\n",
              "  }\n",
              "\n",
              "  [theme=dark] .colab-df-quickchart {\n",
              "      --bg-color: #3B4455;\n",
              "      --fill-color: #D2E3FC;\n",
              "      --hover-bg-color: #434B5C;\n",
              "      --hover-fill-color: #FFFFFF;\n",
              "      --disabled-bg-color: #3B4455;\n",
              "      --disabled-fill-color: #666;\n",
              "  }\n",
              "\n",
              "  .colab-df-quickchart {\n",
              "    background-color: var(--bg-color);\n",
              "    border: none;\n",
              "    border-radius: 50%;\n",
              "    cursor: pointer;\n",
              "    display: none;\n",
              "    fill: var(--fill-color);\n",
              "    height: 32px;\n",
              "    padding: 0;\n",
              "    width: 32px;\n",
              "  }\n",
              "\n",
              "  .colab-df-quickchart:hover {\n",
              "    background-color: var(--hover-bg-color);\n",
              "    box-shadow: 0 1px 2px rgba(60, 64, 67, 0.3), 0 1px 3px 1px rgba(60, 64, 67, 0.15);\n",
              "    fill: var(--button-hover-fill-color);\n",
              "  }\n",
              "\n",
              "  .colab-df-quickchart-complete:disabled,\n",
              "  .colab-df-quickchart-complete:disabled:hover {\n",
              "    background-color: var(--disabled-bg-color);\n",
              "    fill: var(--disabled-fill-color);\n",
              "    box-shadow: none;\n",
              "  }\n",
              "\n",
              "  .colab-df-spinner {\n",
              "    border: 2px solid var(--fill-color);\n",
              "    border-color: transparent;\n",
              "    border-bottom-color: var(--fill-color);\n",
              "    animation:\n",
              "      spin 1s steps(1) infinite;\n",
              "  }\n",
              "\n",
              "  @keyframes spin {\n",
              "    0% {\n",
              "      border-color: transparent;\n",
              "      border-bottom-color: var(--fill-color);\n",
              "      border-left-color: var(--fill-color);\n",
              "    }\n",
              "    20% {\n",
              "      border-color: transparent;\n",
              "      border-left-color: var(--fill-color);\n",
              "      border-top-color: var(--fill-color);\n",
              "    }\n",
              "    30% {\n",
              "      border-color: transparent;\n",
              "      border-left-color: var(--fill-color);\n",
              "      border-top-color: var(--fill-color);\n",
              "      border-right-color: var(--fill-color);\n",
              "    }\n",
              "    40% {\n",
              "      border-color: transparent;\n",
              "      border-right-color: var(--fill-color);\n",
              "      border-top-color: var(--fill-color);\n",
              "    }\n",
              "    60% {\n",
              "      border-color: transparent;\n",
              "      border-right-color: var(--fill-color);\n",
              "    }\n",
              "    80% {\n",
              "      border-color: transparent;\n",
              "      border-right-color: var(--fill-color);\n",
              "      border-bottom-color: var(--fill-color);\n",
              "    }\n",
              "    90% {\n",
              "      border-color: transparent;\n",
              "      border-bottom-color: var(--fill-color);\n",
              "    }\n",
              "  }\n",
              "</style>\n",
              "\n",
              "      <script>\n",
              "        async function quickchart(key) {\n",
              "          const quickchartButtonEl =\n",
              "            document.querySelector('#' + key + ' button');\n",
              "          quickchartButtonEl.disabled = true;  // To prevent multiple clicks.\n",
              "          quickchartButtonEl.classList.add('colab-df-spinner');\n",
              "          try {\n",
              "            const charts = await google.colab.kernel.invokeFunction(\n",
              "                'suggestCharts', [key], {});\n",
              "          } catch (error) {\n",
              "            console.error('Error during call to suggestCharts:', error);\n",
              "          }\n",
              "          quickchartButtonEl.classList.remove('colab-df-spinner');\n",
              "          quickchartButtonEl.classList.add('colab-df-quickchart-complete');\n",
              "        }\n",
              "        (() => {\n",
              "          let quickchartButtonEl =\n",
              "            document.querySelector('#df-2be96968-252c-4a73-a49e-bc5d004a36b8 button');\n",
              "          quickchartButtonEl.style.display =\n",
              "            google.colab.kernel.accessAllowed ? 'block' : 'none';\n",
              "        })();\n",
              "      </script>\n",
              "    </div>\n",
              "\n",
              "    </div>\n",
              "  </div>\n"
            ],
            "application/vnd.google.colaboratory.intrinsic+json": {
              "type": "dataframe",
              "variable_name": "df",
              "summary": "{\n  \"name\": \"df\",\n  \"rows\": 2152,\n  \"fields\": [\n    {\n      \"column\": \"nama_channel\",\n      \"properties\": {\n        \"dtype\": \"category\",\n        \"num_unique_values\": 13,\n        \"samples\": [\n          \"Velia Veve\",\n          \"Makan random \",\n          \"Pebbi Lieyanti\"\n        ],\n        \"semantic_type\": \"\",\n        \"description\": \"\"\n      }\n    },\n    {\n      \"column\": \"judul_video\",\n      \"properties\": {\n        \"dtype\": \"category\",\n        \"num_unique_values\": 50,\n        \"samples\": [\n          \"COBAIN SEMUA MAKANAN VIRAL TIKTOK, PART 28!\",\n          \"COBAIN MAKANAN PEDES TIKTOKSHOP VIRAL ENAK GA YAAA\",\n          \"TASYI REVIEW MAKANAN VIRAL TIKTOK : EP 7 | BISA-BISANYA DIBILANG ENAK SAMA TIKTOKERS??\"\n        ],\n        \"semantic_type\": \"\",\n        \"description\": \"\"\n      }\n    },\n    {\n      \"column\": \"author\",\n      \"properties\": {\n        \"dtype\": \"string\",\n        \"num_unique_values\": 2050,\n        \"samples\": [\n          \"@KasihAnggre\",\n          \"@riqagusti\",\n          \"@ManmilaNasiLemakpanas\"\n        ],\n        \"semantic_type\": \"\",\n        \"description\": \"\"\n      }\n    },\n    {\n      \"column\": \"komentar\",\n      \"properties\": {\n        \"dtype\": \"string\",\n        \"num_unique_values\": 2092,\n        \"samples\": [\n          \"Lemper holland selain endul dia ajaib. Dimana2 lemper pagi sore/malem udah lendir. Kalo si holland ini sampe malam jam 10 aja gue makan masih enak. Itu lah ada harga ada kualitas \\ud83d\\ude02\",\n          \"00:11 \\u2764\\ud835\\udc0c\\ud835\\udc0e\\ud835\\udc0d\\ud835\\udc00 \\ud835\\udfd2\\ud835\\udc03\\ud83d\\udd34, terima kasih buat pengalaman seru! Ceritanya bikin mikir, visualnya keren, dan hadiahnya bikin semangat! \\ud83d\\udcaa\",\n          \"Beli dimana ya guys smua itu? Tertarik bgt sm basreng dan cireng kejunya\"\n        ],\n        \"semantic_type\": \"\",\n        \"description\": \"\"\n      }\n    },\n    {\n      \"column\": \"casefolding\",\n      \"properties\": {\n        \"dtype\": \"string\",\n        \"num_unique_values\": 2089,\n        \"samples\": [\n          \"bagus si kontennya, tapi cm mau ngasih saran kalo misal beli makanan sebelum ditambahin saus, kecap, dll dirasain saji in originalnya dan direview juga. jadi, base bumbunya bisa ke review juga\",\n          \"keempat nih, keliatan enak bgt\\ud83e\\udd24\\ud83e\\udd24\",\n          \"ini terus aja mbala editannyaa\"\n        ],\n        \"semantic_type\": \"\",\n        \"description\": \"\"\n      }\n    },\n    {\n      \"column\": \"stripping\",\n      \"properties\": {\n        \"dtype\": \"string\",\n        \"num_unique_values\": 2089,\n        \"samples\": [\n          \"bagus si kontennya, tapi cm mau ngasih saran kalo misal beli makanan sebelum ditambahin saus, kecap, dll dirasain saji in originalnya dan direview juga. jadi, base bumbunya bisa ke review juga\",\n          \"keempat nih, keliatan enak bgt\\ud83e\\udd24\\ud83e\\udd24\",\n          \"ini terus aja mbala editannyaa\"\n        ],\n        \"semantic_type\": \"\",\n        \"description\": \"\"\n      }\n    },\n    {\n      \"column\": \"normalisasi\",\n      \"properties\": {\n        \"dtype\": \"string\",\n        \"num_unique_values\": 2089,\n        \"samples\": [\n          \"bagus si kontennya, tapi cm mau ngasih saran kalau misal beli makanan sebelum ditambahin saus, kecap, dll dirasain saji in originalnya dan direview juga. jadi, base bumbunya bisa ke review juga\",\n          \"keempat nih, keliatan enak bgt\\ud83e\\udd24\\ud83e\\udd24\",\n          \"ini terus saja mbala editannyaa\"\n        ],\n        \"semantic_type\": \"\",\n        \"description\": \"\"\n      }\n    },\n    {\n      \"column\": \"tokenizing\",\n      \"properties\": {\n        \"dtype\": \"object\",\n        \"semantic_type\": \"\",\n        \"description\": \"\"\n      }\n    },\n    {\n      \"column\": \"stopword_removal\",\n      \"properties\": {\n        \"dtype\": \"object\",\n        \"semantic_type\": \"\",\n        \"description\": \"\"\n      }\n    },\n    {\n      \"column\": \"stemming\",\n      \"properties\": {\n        \"dtype\": \"object\",\n        \"semantic_type\": \"\",\n        \"description\": \"\"\n      }\n    },\n    {\n      \"column\": \"no_repeated\",\n      \"properties\": {\n        \"dtype\": \"string\",\n        \"num_unique_values\": 1996,\n        \"samples\": [\n          \"['ryurtheyu']\",\n          \"['kak', 'cobain', 'warung', 'ayah', 'ojak', 'nan']\",\n          \"['kak', 'battle', 'saus', 'keju', 'nan', 'susah', 'cari', 'saos', 'keju', 'enak']\"\n        ],\n        \"semantic_type\": \"\",\n        \"description\": \"\"\n      }\n    }\n  ]\n}"
            }
          },
          "metadata": {},
          "execution_count": 31
        }
      ]
    },
    {
      "cell_type": "code",
      "source": [
        "df.to_csv(\"data_komen_youtube.csv\", index=False, encoding=\"utf-8-sig\")\n",
        "\n",
        "print(\"File tersimpan sebagai 'data_komen_youtube.csv'\")"
      ],
      "metadata": {
        "colab": {
          "base_uri": "https://localhost:8080/"
        },
        "id": "srxGkoTF7wg9",
        "outputId": "be8b2cfb-9bc7-493e-ef32-4408084a69de"
      },
      "execution_count": 28,
      "outputs": [
        {
          "output_type": "stream",
          "name": "stdout",
          "text": [
            "File tersimpan sebagai 'data_komen_youtube.csv'\n"
          ]
        }
      ]
    }
  ],
  "metadata": {
    "language_info": {
      "name": "python"
    },
    "colab": {
      "provenance": []
    },
    "kernelspec": {
      "name": "python3",
      "display_name": "Python 3"
    }
  },
  "nbformat": 4,
  "nbformat_minor": 0
}