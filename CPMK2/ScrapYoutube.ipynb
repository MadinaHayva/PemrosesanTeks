{
  "cells": [
    {
      "cell_type": "markdown",
      "source": [
        "### Madina Hayva Putri - 5220411187\n",
        "### Pemrosesan Teks - B"
      ],
      "metadata": {
        "id": "Epr4MEIz7yc0"
      }
    },
    {
      "cell_type": "markdown",
      "source": [
        "# Scraping Komentar Youtube Berdasarkan Kata Kunci"
      ],
      "metadata": {
        "id": "vM9CUF8j8Pd_"
      }
    },
    {
      "cell_type": "code",
      "source": [
        "!pip install google-api-python-client\n",
        "!pip install tqdm"
      ],
      "metadata": {
        "colab": {
          "base_uri": "https://localhost:8080/"
        },
        "id": "SDfRX8Nz6gRp",
        "outputId": "72447a5f-4a6b-475a-f670-616ffc47ee6f"
      },
      "execution_count": 19,
      "outputs": [
        {
          "output_type": "stream",
          "name": "stdout",
          "text": [
            "Requirement already satisfied: google-api-python-client in /usr/local/lib/python3.12/dist-packages (2.183.0)\n",
            "Requirement already satisfied: httplib2<1.0.0,>=0.19.0 in /usr/local/lib/python3.12/dist-packages (from google-api-python-client) (0.31.0)\n",
            "Requirement already satisfied: google-auth!=2.24.0,!=2.25.0,<3.0.0,>=1.32.0 in /usr/local/lib/python3.12/dist-packages (from google-api-python-client) (2.38.0)\n",
            "Requirement already satisfied: google-auth-httplib2<1.0.0,>=0.2.0 in /usr/local/lib/python3.12/dist-packages (from google-api-python-client) (0.2.0)\n",
            "Requirement already satisfied: google-api-core!=2.0.*,!=2.1.*,!=2.2.*,!=2.3.0,<3.0.0,>=1.31.5 in /usr/local/lib/python3.12/dist-packages (from google-api-python-client) (2.25.1)\n",
            "Requirement already satisfied: uritemplate<5,>=3.0.1 in /usr/local/lib/python3.12/dist-packages (from google-api-python-client) (4.2.0)\n",
            "Requirement already satisfied: googleapis-common-protos<2.0.0,>=1.56.2 in /usr/local/lib/python3.12/dist-packages (from google-api-core!=2.0.*,!=2.1.*,!=2.2.*,!=2.3.0,<3.0.0,>=1.31.5->google-api-python-client) (1.70.0)\n",
            "Requirement already satisfied: protobuf!=3.20.0,!=3.20.1,!=4.21.0,!=4.21.1,!=4.21.2,!=4.21.3,!=4.21.4,!=4.21.5,<7.0.0,>=3.19.5 in /usr/local/lib/python3.12/dist-packages (from google-api-core!=2.0.*,!=2.1.*,!=2.2.*,!=2.3.0,<3.0.0,>=1.31.5->google-api-python-client) (5.29.5)\n",
            "Requirement already satisfied: proto-plus<2.0.0,>=1.22.3 in /usr/local/lib/python3.12/dist-packages (from google-api-core!=2.0.*,!=2.1.*,!=2.2.*,!=2.3.0,<3.0.0,>=1.31.5->google-api-python-client) (1.26.1)\n",
            "Requirement already satisfied: requests<3.0.0,>=2.18.0 in /usr/local/lib/python3.12/dist-packages (from google-api-core!=2.0.*,!=2.1.*,!=2.2.*,!=2.3.0,<3.0.0,>=1.31.5->google-api-python-client) (2.32.4)\n",
            "Requirement already satisfied: cachetools<6.0,>=2.0.0 in /usr/local/lib/python3.12/dist-packages (from google-auth!=2.24.0,!=2.25.0,<3.0.0,>=1.32.0->google-api-python-client) (5.5.2)\n",
            "Requirement already satisfied: pyasn1-modules>=0.2.1 in /usr/local/lib/python3.12/dist-packages (from google-auth!=2.24.0,!=2.25.0,<3.0.0,>=1.32.0->google-api-python-client) (0.4.2)\n",
            "Requirement already satisfied: rsa<5,>=3.1.4 in /usr/local/lib/python3.12/dist-packages (from google-auth!=2.24.0,!=2.25.0,<3.0.0,>=1.32.0->google-api-python-client) (4.9.1)\n",
            "Requirement already satisfied: pyparsing<4,>=3.0.4 in /usr/local/lib/python3.12/dist-packages (from httplib2<1.0.0,>=0.19.0->google-api-python-client) (3.2.5)\n",
            "Requirement already satisfied: pyasn1<0.7.0,>=0.6.1 in /usr/local/lib/python3.12/dist-packages (from pyasn1-modules>=0.2.1->google-auth!=2.24.0,!=2.25.0,<3.0.0,>=1.32.0->google-api-python-client) (0.6.1)\n",
            "Requirement already satisfied: charset_normalizer<4,>=2 in /usr/local/lib/python3.12/dist-packages (from requests<3.0.0,>=2.18.0->google-api-core!=2.0.*,!=2.1.*,!=2.2.*,!=2.3.0,<3.0.0,>=1.31.5->google-api-python-client) (3.4.3)\n",
            "Requirement already satisfied: idna<4,>=2.5 in /usr/local/lib/python3.12/dist-packages (from requests<3.0.0,>=2.18.0->google-api-core!=2.0.*,!=2.1.*,!=2.2.*,!=2.3.0,<3.0.0,>=1.31.5->google-api-python-client) (3.10)\n",
            "Requirement already satisfied: urllib3<3,>=1.21.1 in /usr/local/lib/python3.12/dist-packages (from requests<3.0.0,>=2.18.0->google-api-core!=2.0.*,!=2.1.*,!=2.2.*,!=2.3.0,<3.0.0,>=1.31.5->google-api-python-client) (2.5.0)\n",
            "Requirement already satisfied: certifi>=2017.4.17 in /usr/local/lib/python3.12/dist-packages (from requests<3.0.0,>=2.18.0->google-api-core!=2.0.*,!=2.1.*,!=2.2.*,!=2.3.0,<3.0.0,>=1.31.5->google-api-python-client) (2025.8.3)\n",
            "Requirement already satisfied: tqdm in /usr/local/lib/python3.12/dist-packages (4.67.1)\n"
          ]
        }
      ]
    },
    {
      "cell_type": "code",
      "source": [
        "from google.colab import userdata\n",
        "from googleapiclient.discovery import build\n",
        "import pandas as pd\n",
        "from tqdm import tqdm"
      ],
      "metadata": {
        "id": "2QtCgSLK6o6V"
      },
      "execution_count": 20,
      "outputs": []
    },
    {
      "cell_type": "code",
      "source": [
        "api_key = userdata.get('YouTube')  # ganti nama secret dengan nama yang sama di tab \"Rahasia\"\n",
        "youtube = build('youtube', 'v3', developerKey=api_key)\n",
        "\n",
        "print(\"Berhasil\")"
      ],
      "metadata": {
        "colab": {
          "base_uri": "https://localhost:8080/"
        },
        "id": "S6bmRwAo6pva",
        "outputId": "1e6e8197-2fd6-40a1-a646-2a9d18841fc9"
      },
      "execution_count": 29,
      "outputs": [
        {
          "output_type": "stream",
          "name": "stdout",
          "text": [
            "Berhasil\n"
          ]
        }
      ]
    },
    {
      "cell_type": "code",
      "source": [
        "# parameter pencarian video dengan kata kunci\n",
        "query = \"review makanan tiktokers\"\n",
        "max_komen_per_video = 150\n",
        "min_total_komen = 1000"
      ],
      "metadata": {
        "id": "NXRg-5ad63rk"
      },
      "execution_count": 40,
      "outputs": []
    },
    {
      "cell_type": "code",
      "source": [
        "videos = []\n",
        "next_page_token = None\n",
        "\n",
        "print(\"Mengambil daftar video berdasarkan kata kunci...\")\n",
        "while len(videos) < (min_total_komen // max_komen_per_video) + 5:\n",
        "    request = youtube.search().list(\n",
        "        q=query,\n",
        "        part=\"id,snippet\",\n",
        "        type=\"video\",\n",
        "        maxResults=30,\n",
        "        pageToken=next_page_token\n",
        "    )\n",
        "    response = request.execute()\n",
        "    videos += response[\"items\"]\n",
        "    next_page_token = response.get(\"nextPageToken\")\n",
        "    if not next_page_token:\n",
        "        break\n",
        "\n",
        "print(f\"Ditemukan {len(videos)} video terkait '{query}'\\n\")\n"
      ],
      "metadata": {
        "colab": {
          "base_uri": "https://localhost:8080/"
        },
        "id": "i3pdTL7O7kNA",
        "outputId": "b9051c90-0715-4969-e505-86b8250ef29d"
      },
      "execution_count": 41,
      "outputs": [
        {
          "output_type": "stream",
          "name": "stdout",
          "text": [
            "Mengambil daftar video berdasarkan kata kunci...\n",
            "Ditemukan 30 video terkait 'review makanan tiktokers'\n",
            "\n"
          ]
        }
      ]
    },
    {
      "cell_type": "code",
      "source": [
        "data_komen = []\n",
        "total_komen = 0\n",
        "\n",
        "for video in tqdm(videos, desc=\"Mengambil komentar\"):\n",
        "    video_id = video[\"id\"][\"videoId\"]\n",
        "    channel_name = video[\"snippet\"][\"channelTitle\"]\n",
        "    video_title = video[\"snippet\"][\"title\"]\n",
        "\n",
        "    next_page_token = None\n",
        "    count = 0\n",
        "\n",
        "    while count < max_komen_per_video:\n",
        "        request = youtube.commentThreads().list(\n",
        "            part=\"snippet\",\n",
        "            videoId=video_id,\n",
        "            maxResults=100,\n",
        "            pageToken=next_page_token,\n",
        "            textFormat=\"plainText\"\n",
        "        )\n",
        "        response = request.execute()\n",
        "\n",
        "        for item in response[\"items\"]:\n",
        "            comment = item[\"snippet\"][\"topLevelComment\"][\"snippet\"]\n",
        "            data_komen.append({\n",
        "                \"nama_channel\": channel_name,\n",
        "                \"judul_video\": video_title,\n",
        "                \"komentar\": comment[\"textDisplay\"],\n",
        "                \"jumlah_like_komentar\": comment[\"likeCount\"],\n",
        "                \"tanggal_posting\": comment[\"publishedAt\"]\n",
        "            })\n",
        "            count += 1\n",
        "            total_komen += 1\n",
        "            if count >= max_komen_per_video:\n",
        "                break  # hanya berhenti per video\n",
        "\n",
        "        next_page_token = response.get(\"nextPageToken\")\n",
        "        if not next_page_token:\n",
        "            break  # komentar video habis\n",
        "\n",
        "print(f\"\\nTotal komentar terkumpul: {len(data_komen)}\")"
      ],
      "metadata": {
        "colab": {
          "base_uri": "https://localhost:8080/"
        },
        "id": "pDMOjMKsCAzW",
        "outputId": "e7bb10cd-b13d-4383-f369-227582ee0e84"
      },
      "execution_count": 45,
      "outputs": [
        {
          "output_type": "stream",
          "name": "stderr",
          "text": [
            "Mengambil komentar: 100%|██████████| 30/30 [00:05<00:00,  5.20it/s]"
          ]
        },
        {
          "output_type": "stream",
          "name": "stdout",
          "text": [
            "\n",
            "Total komentar terkumpul: 4069\n"
          ]
        },
        {
          "output_type": "stream",
          "name": "stderr",
          "text": [
            "\n"
          ]
        }
      ]
    },
    {
      "cell_type": "markdown",
      "source": [
        "## Casefolding"
      ],
      "metadata": {
        "id": "mB2FIUUD9CpN"
      }
    },
    {
      "cell_type": "code",
      "source": [
        "import re\n",
        "df = pd.DataFrame(data_komen)\n",
        "df[\"komentar\"] = df[\"komentar\"].apply(lambda x: x.casefold()) #mengubah huruf menjadi kecil\n",
        "df[\"komentar\"] = df[\"komentar\"].str.strip() #menghapus spasi berlebih\n",
        "df[\"komentar\"] = df[\"komentar\"].apply(lambda x: re.sub(r'[^a-zA-Z0-9\\s]', '', x)) #menghapus karakter non-alfabet\n",
        "\n",
        "print(f\"Total komentar setelah casefolding: {len(df)}\")"
      ],
      "metadata": {
        "colab": {
          "base_uri": "https://localhost:8080/"
        },
        "id": "TCqswR6N8xBi",
        "outputId": "afdb6baa-a992-46d6-f37a-02349568f71d"
      },
      "execution_count": 55,
      "outputs": [
        {
          "output_type": "stream",
          "name": "stdout",
          "text": [
            "Total komentar setelah casefolding: 4069\n"
          ]
        }
      ]
    },
    {
      "cell_type": "code",
      "source": [
        "df.head(10)"
      ],
      "metadata": {
        "colab": {
          "base_uri": "https://localhost:8080/",
          "height": 536
        },
        "id": "4ilA78wiEeYK",
        "outputId": "d15c4f87-7c32-47c0-ebb7-a767aedf4536"
      },
      "execution_count": 56,
      "outputs": [
        {
          "output_type": "execute_result",
          "data": {
            "text/plain": [
              "     nama_channel                                        judul_video  \\\n",
              "0  Tasyi Athasyia  TASYI REVIEW MAKANAN TIKTOKERS VIRAL😱⁉️ MAAF G...   \n",
              "1  Tasyi Athasyia  TASYI REVIEW MAKANAN TIKTOKERS VIRAL😱⁉️ MAAF G...   \n",
              "2  Tasyi Athasyia  TASYI REVIEW MAKANAN TIKTOKERS VIRAL😱⁉️ MAAF G...   \n",
              "3  Tasyi Athasyia  TASYI REVIEW MAKANAN TIKTOKERS VIRAL😱⁉️ MAAF G...   \n",
              "4  Tasyi Athasyia  TASYI REVIEW MAKANAN TIKTOKERS VIRAL😱⁉️ MAAF G...   \n",
              "5  Tasyi Athasyia  TASYI REVIEW MAKANAN TIKTOKERS VIRAL😱⁉️ MAAF G...   \n",
              "6  Tasyi Athasyia  TASYI REVIEW MAKANAN TIKTOKERS VIRAL😱⁉️ MAAF G...   \n",
              "7  Tasyi Athasyia  TASYI REVIEW MAKANAN TIKTOKERS VIRAL😱⁉️ MAAF G...   \n",
              "8  Tasyi Athasyia  TASYI REVIEW MAKANAN TIKTOKERS VIRAL😱⁉️ MAAF G...   \n",
              "9  Tasyi Athasyia  TASYI REVIEW MAKANAN TIKTOKERS VIRAL😱⁉️ MAAF G...   \n",
              "\n",
              "                                            komentar  jumlah_like_komentar  \\\n",
              "0                                      selalu ngiler                     0   \n",
              "1                                    cookies minbite                     0   \n",
              "2  kak bikin review gini lagiiiiiiikiii sukak ban...                     0   \n",
              "3                       ngoler tahu sama basreng nya                     0   \n",
              "4  salam kenal dari tabanan bali semoga sehat sel...                     0   \n",
              "5  jando itu lemak tapi bagian dari pd nya sapi b...                     0   \n",
              "6  kalau berani review nastar saya umma delight n...                     0   \n",
              "7            ada yg tau ga hijab yg dipake tasyi apa                     1   \n",
              "8                                                38r                     0   \n",
              "9                                    kayanya enak ya                     0   \n",
              "\n",
              "        tanggal_posting  \n",
              "0  2025-09-29T08:15:18Z  \n",
              "1  2025-09-06T16:56:33Z  \n",
              "2  2025-09-02T09:38:41Z  \n",
              "3  2025-08-28T02:17:59Z  \n",
              "4  2025-07-22T14:51:17Z  \n",
              "5  2025-06-01T15:58:14Z  \n",
              "6  2025-04-22T12:23:59Z  \n",
              "7  2025-04-10T16:34:59Z  \n",
              "8  2025-03-04T09:53:50Z  \n",
              "9  2025-02-26T02:41:13Z  "
            ],
            "text/html": [
              "\n",
              "  <div id=\"df-5c23b7ba-f98f-4319-9a6a-da95928e2671\" class=\"colab-df-container\">\n",
              "    <div>\n",
              "<style scoped>\n",
              "    .dataframe tbody tr th:only-of-type {\n",
              "        vertical-align: middle;\n",
              "    }\n",
              "\n",
              "    .dataframe tbody tr th {\n",
              "        vertical-align: top;\n",
              "    }\n",
              "\n",
              "    .dataframe thead th {\n",
              "        text-align: right;\n",
              "    }\n",
              "</style>\n",
              "<table border=\"1\" class=\"dataframe\">\n",
              "  <thead>\n",
              "    <tr style=\"text-align: right;\">\n",
              "      <th></th>\n",
              "      <th>nama_channel</th>\n",
              "      <th>judul_video</th>\n",
              "      <th>komentar</th>\n",
              "      <th>jumlah_like_komentar</th>\n",
              "      <th>tanggal_posting</th>\n",
              "    </tr>\n",
              "  </thead>\n",
              "  <tbody>\n",
              "    <tr>\n",
              "      <th>0</th>\n",
              "      <td>Tasyi Athasyia</td>\n",
              "      <td>TASYI REVIEW MAKANAN TIKTOKERS VIRAL😱⁉️ MAAF G...</td>\n",
              "      <td>selalu ngiler</td>\n",
              "      <td>0</td>\n",
              "      <td>2025-09-29T08:15:18Z</td>\n",
              "    </tr>\n",
              "    <tr>\n",
              "      <th>1</th>\n",
              "      <td>Tasyi Athasyia</td>\n",
              "      <td>TASYI REVIEW MAKANAN TIKTOKERS VIRAL😱⁉️ MAAF G...</td>\n",
              "      <td>cookies minbite</td>\n",
              "      <td>0</td>\n",
              "      <td>2025-09-06T16:56:33Z</td>\n",
              "    </tr>\n",
              "    <tr>\n",
              "      <th>2</th>\n",
              "      <td>Tasyi Athasyia</td>\n",
              "      <td>TASYI REVIEW MAKANAN TIKTOKERS VIRAL😱⁉️ MAAF G...</td>\n",
              "      <td>kak bikin review gini lagiiiiiiikiii sukak ban...</td>\n",
              "      <td>0</td>\n",
              "      <td>2025-09-02T09:38:41Z</td>\n",
              "    </tr>\n",
              "    <tr>\n",
              "      <th>3</th>\n",
              "      <td>Tasyi Athasyia</td>\n",
              "      <td>TASYI REVIEW MAKANAN TIKTOKERS VIRAL😱⁉️ MAAF G...</td>\n",
              "      <td>ngoler tahu sama basreng nya</td>\n",
              "      <td>0</td>\n",
              "      <td>2025-08-28T02:17:59Z</td>\n",
              "    </tr>\n",
              "    <tr>\n",
              "      <th>4</th>\n",
              "      <td>Tasyi Athasyia</td>\n",
              "      <td>TASYI REVIEW MAKANAN TIKTOKERS VIRAL😱⁉️ MAAF G...</td>\n",
              "      <td>salam kenal dari tabanan bali semoga sehat sel...</td>\n",
              "      <td>0</td>\n",
              "      <td>2025-07-22T14:51:17Z</td>\n",
              "    </tr>\n",
              "    <tr>\n",
              "      <th>5</th>\n",
              "      <td>Tasyi Athasyia</td>\n",
              "      <td>TASYI REVIEW MAKANAN TIKTOKERS VIRAL😱⁉️ MAAF G...</td>\n",
              "      <td>jando itu lemak tapi bagian dari pd nya sapi b...</td>\n",
              "      <td>0</td>\n",
              "      <td>2025-06-01T15:58:14Z</td>\n",
              "    </tr>\n",
              "    <tr>\n",
              "      <th>6</th>\n",
              "      <td>Tasyi Athasyia</td>\n",
              "      <td>TASYI REVIEW MAKANAN TIKTOKERS VIRAL😱⁉️ MAAF G...</td>\n",
              "      <td>kalau berani review nastar saya umma delight n...</td>\n",
              "      <td>0</td>\n",
              "      <td>2025-04-22T12:23:59Z</td>\n",
              "    </tr>\n",
              "    <tr>\n",
              "      <th>7</th>\n",
              "      <td>Tasyi Athasyia</td>\n",
              "      <td>TASYI REVIEW MAKANAN TIKTOKERS VIRAL😱⁉️ MAAF G...</td>\n",
              "      <td>ada yg tau ga hijab yg dipake tasyi apa</td>\n",
              "      <td>1</td>\n",
              "      <td>2025-04-10T16:34:59Z</td>\n",
              "    </tr>\n",
              "    <tr>\n",
              "      <th>8</th>\n",
              "      <td>Tasyi Athasyia</td>\n",
              "      <td>TASYI REVIEW MAKANAN TIKTOKERS VIRAL😱⁉️ MAAF G...</td>\n",
              "      <td>38r</td>\n",
              "      <td>0</td>\n",
              "      <td>2025-03-04T09:53:50Z</td>\n",
              "    </tr>\n",
              "    <tr>\n",
              "      <th>9</th>\n",
              "      <td>Tasyi Athasyia</td>\n",
              "      <td>TASYI REVIEW MAKANAN TIKTOKERS VIRAL😱⁉️ MAAF G...</td>\n",
              "      <td>kayanya enak ya</td>\n",
              "      <td>0</td>\n",
              "      <td>2025-02-26T02:41:13Z</td>\n",
              "    </tr>\n",
              "  </tbody>\n",
              "</table>\n",
              "</div>\n",
              "    <div class=\"colab-df-buttons\">\n",
              "\n",
              "  <div class=\"colab-df-container\">\n",
              "    <button class=\"colab-df-convert\" onclick=\"convertToInteractive('df-5c23b7ba-f98f-4319-9a6a-da95928e2671')\"\n",
              "            title=\"Convert this dataframe to an interactive table.\"\n",
              "            style=\"display:none;\">\n",
              "\n",
              "  <svg xmlns=\"http://www.w3.org/2000/svg\" height=\"24px\" viewBox=\"0 -960 960 960\">\n",
              "    <path d=\"M120-120v-720h720v720H120Zm60-500h600v-160H180v160Zm220 220h160v-160H400v160Zm0 220h160v-160H400v160ZM180-400h160v-160H180v160Zm440 0h160v-160H620v160ZM180-180h160v-160H180v160Zm440 0h160v-160H620v160Z\"/>\n",
              "  </svg>\n",
              "    </button>\n",
              "\n",
              "  <style>\n",
              "    .colab-df-container {\n",
              "      display:flex;\n",
              "      gap: 12px;\n",
              "    }\n",
              "\n",
              "    .colab-df-convert {\n",
              "      background-color: #E8F0FE;\n",
              "      border: none;\n",
              "      border-radius: 50%;\n",
              "      cursor: pointer;\n",
              "      display: none;\n",
              "      fill: #1967D2;\n",
              "      height: 32px;\n",
              "      padding: 0 0 0 0;\n",
              "      width: 32px;\n",
              "    }\n",
              "\n",
              "    .colab-df-convert:hover {\n",
              "      background-color: #E2EBFA;\n",
              "      box-shadow: 0px 1px 2px rgba(60, 64, 67, 0.3), 0px 1px 3px 1px rgba(60, 64, 67, 0.15);\n",
              "      fill: #174EA6;\n",
              "    }\n",
              "\n",
              "    .colab-df-buttons div {\n",
              "      margin-bottom: 4px;\n",
              "    }\n",
              "\n",
              "    [theme=dark] .colab-df-convert {\n",
              "      background-color: #3B4455;\n",
              "      fill: #D2E3FC;\n",
              "    }\n",
              "\n",
              "    [theme=dark] .colab-df-convert:hover {\n",
              "      background-color: #434B5C;\n",
              "      box-shadow: 0px 1px 3px 1px rgba(0, 0, 0, 0.15);\n",
              "      filter: drop-shadow(0px 1px 2px rgba(0, 0, 0, 0.3));\n",
              "      fill: #FFFFFF;\n",
              "    }\n",
              "  </style>\n",
              "\n",
              "    <script>\n",
              "      const buttonEl =\n",
              "        document.querySelector('#df-5c23b7ba-f98f-4319-9a6a-da95928e2671 button.colab-df-convert');\n",
              "      buttonEl.style.display =\n",
              "        google.colab.kernel.accessAllowed ? 'block' : 'none';\n",
              "\n",
              "      async function convertToInteractive(key) {\n",
              "        const element = document.querySelector('#df-5c23b7ba-f98f-4319-9a6a-da95928e2671');\n",
              "        const dataTable =\n",
              "          await google.colab.kernel.invokeFunction('convertToInteractive',\n",
              "                                                    [key], {});\n",
              "        if (!dataTable) return;\n",
              "\n",
              "        const docLinkHtml = 'Like what you see? Visit the ' +\n",
              "          '<a target=\"_blank\" href=https://colab.research.google.com/notebooks/data_table.ipynb>data table notebook</a>'\n",
              "          + ' to learn more about interactive tables.';\n",
              "        element.innerHTML = '';\n",
              "        dataTable['output_type'] = 'display_data';\n",
              "        await google.colab.output.renderOutput(dataTable, element);\n",
              "        const docLink = document.createElement('div');\n",
              "        docLink.innerHTML = docLinkHtml;\n",
              "        element.appendChild(docLink);\n",
              "      }\n",
              "    </script>\n",
              "  </div>\n",
              "\n",
              "\n",
              "    <div id=\"df-6755e38c-ee49-46c7-a970-1a9a9fb31103\">\n",
              "      <button class=\"colab-df-quickchart\" onclick=\"quickchart('df-6755e38c-ee49-46c7-a970-1a9a9fb31103')\"\n",
              "                title=\"Suggest charts\"\n",
              "                style=\"display:none;\">\n",
              "\n",
              "<svg xmlns=\"http://www.w3.org/2000/svg\" height=\"24px\"viewBox=\"0 0 24 24\"\n",
              "     width=\"24px\">\n",
              "    <g>\n",
              "        <path d=\"M19 3H5c-1.1 0-2 .9-2 2v14c0 1.1.9 2 2 2h14c1.1 0 2-.9 2-2V5c0-1.1-.9-2-2-2zM9 17H7v-7h2v7zm4 0h-2V7h2v10zm4 0h-2v-4h2v4z\"/>\n",
              "    </g>\n",
              "</svg>\n",
              "      </button>\n",
              "\n",
              "<style>\n",
              "  .colab-df-quickchart {\n",
              "      --bg-color: #E8F0FE;\n",
              "      --fill-color: #1967D2;\n",
              "      --hover-bg-color: #E2EBFA;\n",
              "      --hover-fill-color: #174EA6;\n",
              "      --disabled-fill-color: #AAA;\n",
              "      --disabled-bg-color: #DDD;\n",
              "  }\n",
              "\n",
              "  [theme=dark] .colab-df-quickchart {\n",
              "      --bg-color: #3B4455;\n",
              "      --fill-color: #D2E3FC;\n",
              "      --hover-bg-color: #434B5C;\n",
              "      --hover-fill-color: #FFFFFF;\n",
              "      --disabled-bg-color: #3B4455;\n",
              "      --disabled-fill-color: #666;\n",
              "  }\n",
              "\n",
              "  .colab-df-quickchart {\n",
              "    background-color: var(--bg-color);\n",
              "    border: none;\n",
              "    border-radius: 50%;\n",
              "    cursor: pointer;\n",
              "    display: none;\n",
              "    fill: var(--fill-color);\n",
              "    height: 32px;\n",
              "    padding: 0;\n",
              "    width: 32px;\n",
              "  }\n",
              "\n",
              "  .colab-df-quickchart:hover {\n",
              "    background-color: var(--hover-bg-color);\n",
              "    box-shadow: 0 1px 2px rgba(60, 64, 67, 0.3), 0 1px 3px 1px rgba(60, 64, 67, 0.15);\n",
              "    fill: var(--button-hover-fill-color);\n",
              "  }\n",
              "\n",
              "  .colab-df-quickchart-complete:disabled,\n",
              "  .colab-df-quickchart-complete:disabled:hover {\n",
              "    background-color: var(--disabled-bg-color);\n",
              "    fill: var(--disabled-fill-color);\n",
              "    box-shadow: none;\n",
              "  }\n",
              "\n",
              "  .colab-df-spinner {\n",
              "    border: 2px solid var(--fill-color);\n",
              "    border-color: transparent;\n",
              "    border-bottom-color: var(--fill-color);\n",
              "    animation:\n",
              "      spin 1s steps(1) infinite;\n",
              "  }\n",
              "\n",
              "  @keyframes spin {\n",
              "    0% {\n",
              "      border-color: transparent;\n",
              "      border-bottom-color: var(--fill-color);\n",
              "      border-left-color: var(--fill-color);\n",
              "    }\n",
              "    20% {\n",
              "      border-color: transparent;\n",
              "      border-left-color: var(--fill-color);\n",
              "      border-top-color: var(--fill-color);\n",
              "    }\n",
              "    30% {\n",
              "      border-color: transparent;\n",
              "      border-left-color: var(--fill-color);\n",
              "      border-top-color: var(--fill-color);\n",
              "      border-right-color: var(--fill-color);\n",
              "    }\n",
              "    40% {\n",
              "      border-color: transparent;\n",
              "      border-right-color: var(--fill-color);\n",
              "      border-top-color: var(--fill-color);\n",
              "    }\n",
              "    60% {\n",
              "      border-color: transparent;\n",
              "      border-right-color: var(--fill-color);\n",
              "    }\n",
              "    80% {\n",
              "      border-color: transparent;\n",
              "      border-right-color: var(--fill-color);\n",
              "      border-bottom-color: var(--fill-color);\n",
              "    }\n",
              "    90% {\n",
              "      border-color: transparent;\n",
              "      border-bottom-color: var(--fill-color);\n",
              "    }\n",
              "  }\n",
              "</style>\n",
              "\n",
              "      <script>\n",
              "        async function quickchart(key) {\n",
              "          const quickchartButtonEl =\n",
              "            document.querySelector('#' + key + ' button');\n",
              "          quickchartButtonEl.disabled = true;  // To prevent multiple clicks.\n",
              "          quickchartButtonEl.classList.add('colab-df-spinner');\n",
              "          try {\n",
              "            const charts = await google.colab.kernel.invokeFunction(\n",
              "                'suggestCharts', [key], {});\n",
              "          } catch (error) {\n",
              "            console.error('Error during call to suggestCharts:', error);\n",
              "          }\n",
              "          quickchartButtonEl.classList.remove('colab-df-spinner');\n",
              "          quickchartButtonEl.classList.add('colab-df-quickchart-complete');\n",
              "        }\n",
              "        (() => {\n",
              "          let quickchartButtonEl =\n",
              "            document.querySelector('#df-6755e38c-ee49-46c7-a970-1a9a9fb31103 button');\n",
              "          quickchartButtonEl.style.display =\n",
              "            google.colab.kernel.accessAllowed ? 'block' : 'none';\n",
              "        })();\n",
              "      </script>\n",
              "    </div>\n",
              "\n",
              "    </div>\n",
              "  </div>\n"
            ],
            "application/vnd.google.colaboratory.intrinsic+json": {
              "type": "dataframe",
              "variable_name": "df",
              "summary": "{\n  \"name\": \"df\",\n  \"rows\": 4069,\n  \"fields\": [\n    {\n      \"column\": \"nama_channel\",\n      \"properties\": {\n        \"dtype\": \"category\",\n        \"num_unique_values\": 7,\n        \"samples\": [\n          \"Tasyi Athasyia\",\n          \"Jessica Jane\",\n          \"KUMPULAN ARTIS REVIEW MAKANAN\"\n        ],\n        \"semantic_type\": \"\",\n        \"description\": \"\"\n      }\n    },\n    {\n      \"column\": \"judul_video\",\n      \"properties\": {\n        \"dtype\": \"category\",\n        \"num_unique_values\": 29,\n        \"samples\": [\n          \"REVIEW MAKANAN VIRAL TIKTOK!\",\n          \"HAMPIR AJA FUJI BETE GARA GARA MAKAN INI #fujian #reviewmakanan #shorts #kuliner #artisindonesia\",\n          \"NYOBAIN MAKANAN JUALAN TIKTOKERS!! VIDEO INI SANGATLAH RUSUH GUYS \\ud83d\\ude2d\\ud83d\\ude2d\\ud83d\\ude2d\"\n        ],\n        \"semantic_type\": \"\",\n        \"description\": \"\"\n      }\n    },\n    {\n      \"column\": \"komentar\",\n      \"properties\": {\n        \"dtype\": \"string\",\n        \"num_unique_values\": 3878,\n        \"samples\": [\n          \"gacor habis  memang juara\",\n          \"pengen punya hubungan pacaran kaya kak jessica saling pengertian dan saling ngejaga satu sama lain langgeng selalu iya kak amin ya kak \",\n          \"terus kalau hampir bete kenapa\"\n        ],\n        \"semantic_type\": \"\",\n        \"description\": \"\"\n      }\n    },\n    {\n      \"column\": \"jumlah_like_komentar\",\n      \"properties\": {\n        \"dtype\": \"number\",\n        \"std\": 65,\n        \"min\": 0,\n        \"max\": 1596,\n        \"num_unique_values\": 123,\n        \"samples\": [\n          257,\n          34,\n          131\n        ],\n        \"semantic_type\": \"\",\n        \"description\": \"\"\n      }\n    },\n    {\n      \"column\": \"tanggal_posting\",\n      \"properties\": {\n        \"dtype\": \"object\",\n        \"num_unique_values\": 3988,\n        \"samples\": [\n          \"2025-05-19T15:58:35Z\",\n          \"2025-05-30T10:31:14Z\",\n          \"2025-07-17T04:09:07Z\"\n        ],\n        \"semantic_type\": \"\",\n        \"description\": \"\"\n      }\n    }\n  ]\n}"
            }
          },
          "metadata": {},
          "execution_count": 56
        }
      ]
    },
    {
      "cell_type": "code",
      "source": [
        "df.to_csv(\"data_komen_youtube.csv\", index=False, encoding=\"utf-8-sig\")\n",
        "\n",
        "print(\"File tersimpan sebagai 'data_komen_youtube.csv'\")"
      ],
      "metadata": {
        "colab": {
          "base_uri": "https://localhost:8080/"
        },
        "id": "srxGkoTF7wg9",
        "outputId": "68536c1a-845b-4b32-cd6d-e83143801e22"
      },
      "execution_count": 57,
      "outputs": [
        {
          "output_type": "stream",
          "name": "stdout",
          "text": [
            "File tersimpan sebagai 'data_komen_youtube.csv'\n"
          ]
        }
      ]
    }
  ],
  "metadata": {
    "language_info": {
      "name": "python"
    },
    "colab": {
      "provenance": []
    },
    "kernelspec": {
      "name": "python3",
      "display_name": "Python 3"
    }
  },
  "nbformat": 4,
  "nbformat_minor": 0
}