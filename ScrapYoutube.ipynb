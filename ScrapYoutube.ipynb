{
  "cells": [
    {
      "cell_type": "markdown",
      "source": [
        "### Madina Hayva Putri - 5220411187\n",
        "### Pemrosesan Teks - B"
      ],
      "metadata": {
        "id": "Epr4MEIz7yc0"
      }
    },
    {
      "cell_type": "markdown",
      "source": [
        "# Scraping Komentar Youtube Berdasarkan Kata Kunci"
      ],
      "metadata": {
        "id": "vM9CUF8j8Pd_"
      }
    },
    {
      "cell_type": "code",
      "source": [
        "!pip install google-api-python-client\n",
        "!pip install tqdm"
      ],
      "metadata": {
        "colab": {
          "base_uri": "https://localhost:8080/"
        },
        "id": "SDfRX8Nz6gRp",
        "outputId": "72447a5f-4a6b-475a-f670-616ffc47ee6f"
      },
      "execution_count": 19,
      "outputs": [
        {
          "output_type": "stream",
          "name": "stdout",
          "text": [
            "Requirement already satisfied: google-api-python-client in /usr/local/lib/python3.12/dist-packages (2.183.0)\n",
            "Requirement already satisfied: httplib2<1.0.0,>=0.19.0 in /usr/local/lib/python3.12/dist-packages (from google-api-python-client) (0.31.0)\n",
            "Requirement already satisfied: google-auth!=2.24.0,!=2.25.0,<3.0.0,>=1.32.0 in /usr/local/lib/python3.12/dist-packages (from google-api-python-client) (2.38.0)\n",
            "Requirement already satisfied: google-auth-httplib2<1.0.0,>=0.2.0 in /usr/local/lib/python3.12/dist-packages (from google-api-python-client) (0.2.0)\n",
            "Requirement already satisfied: google-api-core!=2.0.*,!=2.1.*,!=2.2.*,!=2.3.0,<3.0.0,>=1.31.5 in /usr/local/lib/python3.12/dist-packages (from google-api-python-client) (2.25.1)\n",
            "Requirement already satisfied: uritemplate<5,>=3.0.1 in /usr/local/lib/python3.12/dist-packages (from google-api-python-client) (4.2.0)\n",
            "Requirement already satisfied: googleapis-common-protos<2.0.0,>=1.56.2 in /usr/local/lib/python3.12/dist-packages (from google-api-core!=2.0.*,!=2.1.*,!=2.2.*,!=2.3.0,<3.0.0,>=1.31.5->google-api-python-client) (1.70.0)\n",
            "Requirement already satisfied: protobuf!=3.20.0,!=3.20.1,!=4.21.0,!=4.21.1,!=4.21.2,!=4.21.3,!=4.21.4,!=4.21.5,<7.0.0,>=3.19.5 in /usr/local/lib/python3.12/dist-packages (from google-api-core!=2.0.*,!=2.1.*,!=2.2.*,!=2.3.0,<3.0.0,>=1.31.5->google-api-python-client) (5.29.5)\n",
            "Requirement already satisfied: proto-plus<2.0.0,>=1.22.3 in /usr/local/lib/python3.12/dist-packages (from google-api-core!=2.0.*,!=2.1.*,!=2.2.*,!=2.3.0,<3.0.0,>=1.31.5->google-api-python-client) (1.26.1)\n",
            "Requirement already satisfied: requests<3.0.0,>=2.18.0 in /usr/local/lib/python3.12/dist-packages (from google-api-core!=2.0.*,!=2.1.*,!=2.2.*,!=2.3.0,<3.0.0,>=1.31.5->google-api-python-client) (2.32.4)\n",
            "Requirement already satisfied: cachetools<6.0,>=2.0.0 in /usr/local/lib/python3.12/dist-packages (from google-auth!=2.24.0,!=2.25.0,<3.0.0,>=1.32.0->google-api-python-client) (5.5.2)\n",
            "Requirement already satisfied: pyasn1-modules>=0.2.1 in /usr/local/lib/python3.12/dist-packages (from google-auth!=2.24.0,!=2.25.0,<3.0.0,>=1.32.0->google-api-python-client) (0.4.2)\n",
            "Requirement already satisfied: rsa<5,>=3.1.4 in /usr/local/lib/python3.12/dist-packages (from google-auth!=2.24.0,!=2.25.0,<3.0.0,>=1.32.0->google-api-python-client) (4.9.1)\n",
            "Requirement already satisfied: pyparsing<4,>=3.0.4 in /usr/local/lib/python3.12/dist-packages (from httplib2<1.0.0,>=0.19.0->google-api-python-client) (3.2.5)\n",
            "Requirement already satisfied: pyasn1<0.7.0,>=0.6.1 in /usr/local/lib/python3.12/dist-packages (from pyasn1-modules>=0.2.1->google-auth!=2.24.0,!=2.25.0,<3.0.0,>=1.32.0->google-api-python-client) (0.6.1)\n",
            "Requirement already satisfied: charset_normalizer<4,>=2 in /usr/local/lib/python3.12/dist-packages (from requests<3.0.0,>=2.18.0->google-api-core!=2.0.*,!=2.1.*,!=2.2.*,!=2.3.0,<3.0.0,>=1.31.5->google-api-python-client) (3.4.3)\n",
            "Requirement already satisfied: idna<4,>=2.5 in /usr/local/lib/python3.12/dist-packages (from requests<3.0.0,>=2.18.0->google-api-core!=2.0.*,!=2.1.*,!=2.2.*,!=2.3.0,<3.0.0,>=1.31.5->google-api-python-client) (3.10)\n",
            "Requirement already satisfied: urllib3<3,>=1.21.1 in /usr/local/lib/python3.12/dist-packages (from requests<3.0.0,>=2.18.0->google-api-core!=2.0.*,!=2.1.*,!=2.2.*,!=2.3.0,<3.0.0,>=1.31.5->google-api-python-client) (2.5.0)\n",
            "Requirement already satisfied: certifi>=2017.4.17 in /usr/local/lib/python3.12/dist-packages (from requests<3.0.0,>=2.18.0->google-api-core!=2.0.*,!=2.1.*,!=2.2.*,!=2.3.0,<3.0.0,>=1.31.5->google-api-python-client) (2025.8.3)\n",
            "Requirement already satisfied: tqdm in /usr/local/lib/python3.12/dist-packages (4.67.1)\n"
          ]
        }
      ]
    },
    {
      "cell_type": "code",
      "source": [
        "from google.colab import userdata\n",
        "from googleapiclient.discovery import build\n",
        "import pandas as pd\n",
        "from tqdm import tqdm"
      ],
      "metadata": {
        "id": "2QtCgSLK6o6V"
      },
      "execution_count": 20,
      "outputs": []
    },
    {
      "cell_type": "code",
      "source": [
        "api_key = userdata.get('YouTube')  # ganti nama secret dengan nama yang sama di tab \"Rahasia\"\n",
        "youtube = build('youtube', 'v3', developerKey=api_key)\n",
        "\n",
        "print(\"Berhasil\")"
      ],
      "metadata": {
        "colab": {
          "base_uri": "https://localhost:8080/"
        },
        "id": "S6bmRwAo6pva",
        "outputId": "1e6e8197-2fd6-40a1-a646-2a9d18841fc9"
      },
      "execution_count": 29,
      "outputs": [
        {
          "output_type": "stream",
          "name": "stdout",
          "text": [
            "Berhasil\n"
          ]
        }
      ]
    },
    {
      "cell_type": "code",
      "source": [
        "# parameter pencarian video dengan kata kunci\n",
        "query = \"review makanan tiktokers\"\n",
        "max_komen_per_video = 150\n",
        "min_total_komen = 1000"
      ],
      "metadata": {
        "id": "NXRg-5ad63rk"
      },
      "execution_count": 40,
      "outputs": []
    },
    {
      "cell_type": "code",
      "source": [
        "videos = []\n",
        "next_page_token = None\n",
        "\n",
        "print(\"Mengambil daftar video berdasarkan kata kunci...\")\n",
        "while len(videos) < (min_total_komen // max_komen_per_video) + 5:\n",
        "    request = youtube.search().list(\n",
        "        q=query,\n",
        "        part=\"id,snippet\",\n",
        "        type=\"video\",\n",
        "        maxResults=30,\n",
        "        pageToken=next_page_token\n",
        "    )\n",
        "    response = request.execute()\n",
        "    videos += response[\"items\"]\n",
        "    next_page_token = response.get(\"nextPageToken\")\n",
        "    if not next_page_token:\n",
        "        break\n",
        "\n",
        "print(f\"Ditemukan {len(videos)} video terkait '{query}'\\n\")\n"
      ],
      "metadata": {
        "colab": {
          "base_uri": "https://localhost:8080/"
        },
        "id": "i3pdTL7O7kNA",
        "outputId": "b9051c90-0715-4969-e505-86b8250ef29d"
      },
      "execution_count": 41,
      "outputs": [
        {
          "output_type": "stream",
          "name": "stdout",
          "text": [
            "Mengambil daftar video berdasarkan kata kunci...\n",
            "Ditemukan 30 video terkait 'review makanan tiktokers'\n",
            "\n"
          ]
        }
      ]
    },
    {
      "cell_type": "code",
      "source": [
        "data_komen = []\n",
        "total_komen = 0\n",
        "\n",
        "for video in tqdm(videos, desc=\"Mengambil komentar\"):\n",
        "    video_id = video[\"id\"][\"videoId\"]\n",
        "    channel_name = video[\"snippet\"][\"channelTitle\"]\n",
        "    video_title = video[\"snippet\"][\"title\"]\n",
        "\n",
        "    next_page_token = None\n",
        "    count = 0\n",
        "\n",
        "    while count < max_komen_per_video:\n",
        "        request = youtube.commentThreads().list(\n",
        "            part=\"snippet\",\n",
        "            videoId=video_id,\n",
        "            maxResults=100,\n",
        "            pageToken=next_page_token,\n",
        "            textFormat=\"plainText\"\n",
        "        )\n",
        "        response = request.execute()\n",
        "\n",
        "        for item in response[\"items\"]:\n",
        "            comment = item[\"snippet\"][\"topLevelComment\"][\"snippet\"]\n",
        "            data_komen.append({\n",
        "                \"nama_channel\": channel_name,\n",
        "                \"judul_video\": video_title,\n",
        "                \"komentar\": comment[\"textDisplay\"],\n",
        "                \"jumlah_like_komentar\": comment[\"likeCount\"],\n",
        "                \"tanggal_posting\": comment[\"publishedAt\"]\n",
        "            })\n",
        "            count += 1\n",
        "            total_komen += 1\n",
        "            if count >= max_komen_per_video:\n",
        "                break  # hanya berhenti per video\n",
        "\n",
        "        next_page_token = response.get(\"nextPageToken\")\n",
        "        if not next_page_token:\n",
        "            break  # komentar video habis\n",
        "\n",
        "print(f\"\\nTotal komentar terkumpul: {len(data_komen)}\")"
      ],
      "metadata": {
        "colab": {
          "base_uri": "https://localhost:8080/"
        },
        "id": "pDMOjMKsCAzW",
        "outputId": "e7bb10cd-b13d-4383-f369-227582ee0e84"
      },
      "execution_count": 45,
      "outputs": [
        {
          "output_type": "stream",
          "name": "stderr",
          "text": [
            "Mengambil komentar: 100%|██████████| 30/30 [00:05<00:00,  5.20it/s]"
          ]
        },
        {
          "output_type": "stream",
          "name": "stdout",
          "text": [
            "\n",
            "Total komentar terkumpul: 4069\n"
          ]
        },
        {
          "output_type": "stream",
          "name": "stderr",
          "text": [
            "\n"
          ]
        }
      ]
    },
    {
      "cell_type": "markdown",
      "source": [
        "## Casefolding"
      ],
      "metadata": {
        "id": "mB2FIUUD9CpN"
      }
    },
    {
      "cell_type": "code",
      "source": [
        "df = pd.DataFrame(data_komen)\n",
        "df[\"komentar\"] = df[\"komentar\"].str.lower() #mengubah huruf menjadi kecil\n",
        "df[\"komentar\"] = df[\"komentar\"].str.strip() #menghapus spasi berlebih\n",
        "\n",
        "import re\n",
        "df[\"komentar\"] = df[\"komentar\"].apply(lambda x: re.sub(r'[^a-zA-Z0-9\\s]', '', x)) #menghapus karakter non-alfabet\n",
        "\n",
        "print(f\"Total komentar setelah casefolding: {len(df)}\")"
      ],
      "metadata": {
        "colab": {
          "base_uri": "https://localhost:8080/"
        },
        "id": "TCqswR6N8xBi",
        "outputId": "528f8670-3e4a-4a77-9457-91faa05c2f09"
      },
      "execution_count": 47,
      "outputs": [
        {
          "output_type": "stream",
          "name": "stdout",
          "text": [
            "Total komentar setelah casefolding: 4069\n"
          ]
        }
      ]
    },
    {
      "cell_type": "code",
      "source": [
        "df.tail()"
      ],
      "metadata": {
        "colab": {
          "base_uri": "https://localhost:8080/",
          "height": 293
        },
        "id": "4ilA78wiEeYK",
        "outputId": "58986ff5-6ba8-4791-e2d4-e4437adf4ebc"
      },
      "execution_count": 50,
      "outputs": [
        {
          "output_type": "execute_result",
          "data": {
            "text/plain": [
              "             nama_channel                                        judul_video  \\\n",
              "4064  Mia Oktavia Chandra  COBAIN REKOMENDASI HACK MAKANAN DARI COMMENT T...   \n",
              "4065  Mia Oktavia Chandra  COBAIN REKOMENDASI HACK MAKANAN DARI COMMENT T...   \n",
              "4066  Mia Oktavia Chandra  COBAIN REKOMENDASI HACK MAKANAN DARI COMMENT T...   \n",
              "4067  Mia Oktavia Chandra  COBAIN REKOMENDASI HACK MAKANAN DARI COMMENT T...   \n",
              "4068  Mia Oktavia Chandra  COBAIN REKOMENDASI HACK MAKANAN DARI COMMENT T...   \n",
              "\n",
              "                                               komentar  jumlah_like_komentar  \\\n",
              "4064        nasi chitato penyelamat waktu ngekost dulu                      4   \n",
              "4065  penasaran roti o  ice cream mixue nih cobain j...                   935   \n",
              "4066                                           ke 4 nih                     3   \n",
              "4067                          ke 3 nieh ka dapet apaaa                      2   \n",
              "4068  pingin cobain yg chitato tp lagi diettt huff c...                    45   \n",
              "\n",
              "           tanggal_posting  \n",
              "4064  2025-02-12T03:14:17Z  \n",
              "4065  2025-02-10T18:04:00Z  \n",
              "4066  2025-02-10T17:14:36Z  \n",
              "4067  2025-02-10T13:30:45Z  \n",
              "4068  2025-02-10T12:57:01Z  "
            ],
            "text/html": [
              "\n",
              "  <div id=\"df-f552caee-69c8-4fb3-b862-863721cc1eec\" class=\"colab-df-container\">\n",
              "    <div>\n",
              "<style scoped>\n",
              "    .dataframe tbody tr th:only-of-type {\n",
              "        vertical-align: middle;\n",
              "    }\n",
              "\n",
              "    .dataframe tbody tr th {\n",
              "        vertical-align: top;\n",
              "    }\n",
              "\n",
              "    .dataframe thead th {\n",
              "        text-align: right;\n",
              "    }\n",
              "</style>\n",
              "<table border=\"1\" class=\"dataframe\">\n",
              "  <thead>\n",
              "    <tr style=\"text-align: right;\">\n",
              "      <th></th>\n",
              "      <th>nama_channel</th>\n",
              "      <th>judul_video</th>\n",
              "      <th>komentar</th>\n",
              "      <th>jumlah_like_komentar</th>\n",
              "      <th>tanggal_posting</th>\n",
              "    </tr>\n",
              "  </thead>\n",
              "  <tbody>\n",
              "    <tr>\n",
              "      <th>4064</th>\n",
              "      <td>Mia Oktavia Chandra</td>\n",
              "      <td>COBAIN REKOMENDASI HACK MAKANAN DARI COMMENT T...</td>\n",
              "      <td>nasi chitato penyelamat waktu ngekost dulu</td>\n",
              "      <td>4</td>\n",
              "      <td>2025-02-12T03:14:17Z</td>\n",
              "    </tr>\n",
              "    <tr>\n",
              "      <th>4065</th>\n",
              "      <td>Mia Oktavia Chandra</td>\n",
              "      <td>COBAIN REKOMENDASI HACK MAKANAN DARI COMMENT T...</td>\n",
              "      <td>penasaran roti o  ice cream mixue nih cobain j...</td>\n",
              "      <td>935</td>\n",
              "      <td>2025-02-10T18:04:00Z</td>\n",
              "    </tr>\n",
              "    <tr>\n",
              "      <th>4066</th>\n",
              "      <td>Mia Oktavia Chandra</td>\n",
              "      <td>COBAIN REKOMENDASI HACK MAKANAN DARI COMMENT T...</td>\n",
              "      <td>ke 4 nih</td>\n",
              "      <td>3</td>\n",
              "      <td>2025-02-10T17:14:36Z</td>\n",
              "    </tr>\n",
              "    <tr>\n",
              "      <th>4067</th>\n",
              "      <td>Mia Oktavia Chandra</td>\n",
              "      <td>COBAIN REKOMENDASI HACK MAKANAN DARI COMMENT T...</td>\n",
              "      <td>ke 3 nieh ka dapet apaaa</td>\n",
              "      <td>2</td>\n",
              "      <td>2025-02-10T13:30:45Z</td>\n",
              "    </tr>\n",
              "    <tr>\n",
              "      <th>4068</th>\n",
              "      <td>Mia Oktavia Chandra</td>\n",
              "      <td>COBAIN REKOMENDASI HACK MAKANAN DARI COMMENT T...</td>\n",
              "      <td>pingin cobain yg chitato tp lagi diettt huff c...</td>\n",
              "      <td>45</td>\n",
              "      <td>2025-02-10T12:57:01Z</td>\n",
              "    </tr>\n",
              "  </tbody>\n",
              "</table>\n",
              "</div>\n",
              "    <div class=\"colab-df-buttons\">\n",
              "\n",
              "  <div class=\"colab-df-container\">\n",
              "    <button class=\"colab-df-convert\" onclick=\"convertToInteractive('df-f552caee-69c8-4fb3-b862-863721cc1eec')\"\n",
              "            title=\"Convert this dataframe to an interactive table.\"\n",
              "            style=\"display:none;\">\n",
              "\n",
              "  <svg xmlns=\"http://www.w3.org/2000/svg\" height=\"24px\" viewBox=\"0 -960 960 960\">\n",
              "    <path d=\"M120-120v-720h720v720H120Zm60-500h600v-160H180v160Zm220 220h160v-160H400v160Zm0 220h160v-160H400v160ZM180-400h160v-160H180v160Zm440 0h160v-160H620v160ZM180-180h160v-160H180v160Zm440 0h160v-160H620v160Z\"/>\n",
              "  </svg>\n",
              "    </button>\n",
              "\n",
              "  <style>\n",
              "    .colab-df-container {\n",
              "      display:flex;\n",
              "      gap: 12px;\n",
              "    }\n",
              "\n",
              "    .colab-df-convert {\n",
              "      background-color: #E8F0FE;\n",
              "      border: none;\n",
              "      border-radius: 50%;\n",
              "      cursor: pointer;\n",
              "      display: none;\n",
              "      fill: #1967D2;\n",
              "      height: 32px;\n",
              "      padding: 0 0 0 0;\n",
              "      width: 32px;\n",
              "    }\n",
              "\n",
              "    .colab-df-convert:hover {\n",
              "      background-color: #E2EBFA;\n",
              "      box-shadow: 0px 1px 2px rgba(60, 64, 67, 0.3), 0px 1px 3px 1px rgba(60, 64, 67, 0.15);\n",
              "      fill: #174EA6;\n",
              "    }\n",
              "\n",
              "    .colab-df-buttons div {\n",
              "      margin-bottom: 4px;\n",
              "    }\n",
              "\n",
              "    [theme=dark] .colab-df-convert {\n",
              "      background-color: #3B4455;\n",
              "      fill: #D2E3FC;\n",
              "    }\n",
              "\n",
              "    [theme=dark] .colab-df-convert:hover {\n",
              "      background-color: #434B5C;\n",
              "      box-shadow: 0px 1px 3px 1px rgba(0, 0, 0, 0.15);\n",
              "      filter: drop-shadow(0px 1px 2px rgba(0, 0, 0, 0.3));\n",
              "      fill: #FFFFFF;\n",
              "    }\n",
              "  </style>\n",
              "\n",
              "    <script>\n",
              "      const buttonEl =\n",
              "        document.querySelector('#df-f552caee-69c8-4fb3-b862-863721cc1eec button.colab-df-convert');\n",
              "      buttonEl.style.display =\n",
              "        google.colab.kernel.accessAllowed ? 'block' : 'none';\n",
              "\n",
              "      async function convertToInteractive(key) {\n",
              "        const element = document.querySelector('#df-f552caee-69c8-4fb3-b862-863721cc1eec');\n",
              "        const dataTable =\n",
              "          await google.colab.kernel.invokeFunction('convertToInteractive',\n",
              "                                                    [key], {});\n",
              "        if (!dataTable) return;\n",
              "\n",
              "        const docLinkHtml = 'Like what you see? Visit the ' +\n",
              "          '<a target=\"_blank\" href=https://colab.research.google.com/notebooks/data_table.ipynb>data table notebook</a>'\n",
              "          + ' to learn more about interactive tables.';\n",
              "        element.innerHTML = '';\n",
              "        dataTable['output_type'] = 'display_data';\n",
              "        await google.colab.output.renderOutput(dataTable, element);\n",
              "        const docLink = document.createElement('div');\n",
              "        docLink.innerHTML = docLinkHtml;\n",
              "        element.appendChild(docLink);\n",
              "      }\n",
              "    </script>\n",
              "  </div>\n",
              "\n",
              "\n",
              "    <div id=\"df-50cb75ee-e92a-44f8-aef3-04e1864d7999\">\n",
              "      <button class=\"colab-df-quickchart\" onclick=\"quickchart('df-50cb75ee-e92a-44f8-aef3-04e1864d7999')\"\n",
              "                title=\"Suggest charts\"\n",
              "                style=\"display:none;\">\n",
              "\n",
              "<svg xmlns=\"http://www.w3.org/2000/svg\" height=\"24px\"viewBox=\"0 0 24 24\"\n",
              "     width=\"24px\">\n",
              "    <g>\n",
              "        <path d=\"M19 3H5c-1.1 0-2 .9-2 2v14c0 1.1.9 2 2 2h14c1.1 0 2-.9 2-2V5c0-1.1-.9-2-2-2zM9 17H7v-7h2v7zm4 0h-2V7h2v10zm4 0h-2v-4h2v4z\"/>\n",
              "    </g>\n",
              "</svg>\n",
              "      </button>\n",
              "\n",
              "<style>\n",
              "  .colab-df-quickchart {\n",
              "      --bg-color: #E8F0FE;\n",
              "      --fill-color: #1967D2;\n",
              "      --hover-bg-color: #E2EBFA;\n",
              "      --hover-fill-color: #174EA6;\n",
              "      --disabled-fill-color: #AAA;\n",
              "      --disabled-bg-color: #DDD;\n",
              "  }\n",
              "\n",
              "  [theme=dark] .colab-df-quickchart {\n",
              "      --bg-color: #3B4455;\n",
              "      --fill-color: #D2E3FC;\n",
              "      --hover-bg-color: #434B5C;\n",
              "      --hover-fill-color: #FFFFFF;\n",
              "      --disabled-bg-color: #3B4455;\n",
              "      --disabled-fill-color: #666;\n",
              "  }\n",
              "\n",
              "  .colab-df-quickchart {\n",
              "    background-color: var(--bg-color);\n",
              "    border: none;\n",
              "    border-radius: 50%;\n",
              "    cursor: pointer;\n",
              "    display: none;\n",
              "    fill: var(--fill-color);\n",
              "    height: 32px;\n",
              "    padding: 0;\n",
              "    width: 32px;\n",
              "  }\n",
              "\n",
              "  .colab-df-quickchart:hover {\n",
              "    background-color: var(--hover-bg-color);\n",
              "    box-shadow: 0 1px 2px rgba(60, 64, 67, 0.3), 0 1px 3px 1px rgba(60, 64, 67, 0.15);\n",
              "    fill: var(--button-hover-fill-color);\n",
              "  }\n",
              "\n",
              "  .colab-df-quickchart-complete:disabled,\n",
              "  .colab-df-quickchart-complete:disabled:hover {\n",
              "    background-color: var(--disabled-bg-color);\n",
              "    fill: var(--disabled-fill-color);\n",
              "    box-shadow: none;\n",
              "  }\n",
              "\n",
              "  .colab-df-spinner {\n",
              "    border: 2px solid var(--fill-color);\n",
              "    border-color: transparent;\n",
              "    border-bottom-color: var(--fill-color);\n",
              "    animation:\n",
              "      spin 1s steps(1) infinite;\n",
              "  }\n",
              "\n",
              "  @keyframes spin {\n",
              "    0% {\n",
              "      border-color: transparent;\n",
              "      border-bottom-color: var(--fill-color);\n",
              "      border-left-color: var(--fill-color);\n",
              "    }\n",
              "    20% {\n",
              "      border-color: transparent;\n",
              "      border-left-color: var(--fill-color);\n",
              "      border-top-color: var(--fill-color);\n",
              "    }\n",
              "    30% {\n",
              "      border-color: transparent;\n",
              "      border-left-color: var(--fill-color);\n",
              "      border-top-color: var(--fill-color);\n",
              "      border-right-color: var(--fill-color);\n",
              "    }\n",
              "    40% {\n",
              "      border-color: transparent;\n",
              "      border-right-color: var(--fill-color);\n",
              "      border-top-color: var(--fill-color);\n",
              "    }\n",
              "    60% {\n",
              "      border-color: transparent;\n",
              "      border-right-color: var(--fill-color);\n",
              "    }\n",
              "    80% {\n",
              "      border-color: transparent;\n",
              "      border-right-color: var(--fill-color);\n",
              "      border-bottom-color: var(--fill-color);\n",
              "    }\n",
              "    90% {\n",
              "      border-color: transparent;\n",
              "      border-bottom-color: var(--fill-color);\n",
              "    }\n",
              "  }\n",
              "</style>\n",
              "\n",
              "      <script>\n",
              "        async function quickchart(key) {\n",
              "          const quickchartButtonEl =\n",
              "            document.querySelector('#' + key + ' button');\n",
              "          quickchartButtonEl.disabled = true;  // To prevent multiple clicks.\n",
              "          quickchartButtonEl.classList.add('colab-df-spinner');\n",
              "          try {\n",
              "            const charts = await google.colab.kernel.invokeFunction(\n",
              "                'suggestCharts', [key], {});\n",
              "          } catch (error) {\n",
              "            console.error('Error during call to suggestCharts:', error);\n",
              "          }\n",
              "          quickchartButtonEl.classList.remove('colab-df-spinner');\n",
              "          quickchartButtonEl.classList.add('colab-df-quickchart-complete');\n",
              "        }\n",
              "        (() => {\n",
              "          let quickchartButtonEl =\n",
              "            document.querySelector('#df-50cb75ee-e92a-44f8-aef3-04e1864d7999 button');\n",
              "          quickchartButtonEl.style.display =\n",
              "            google.colab.kernel.accessAllowed ? 'block' : 'none';\n",
              "        })();\n",
              "      </script>\n",
              "    </div>\n",
              "\n",
              "    </div>\n",
              "  </div>\n"
            ],
            "application/vnd.google.colaboratory.intrinsic+json": {
              "type": "dataframe",
              "repr_error": "0"
            }
          },
          "metadata": {},
          "execution_count": 50
        }
      ]
    },
    {
      "cell_type": "code",
      "source": [
        "df.to_csv(\"data_komen_youtube.csv\", index=False, encoding=\"utf-8-sig\")\n",
        "\n",
        "print(\"File tersimpan sebagai 'youtube_comments.csv'\")"
      ],
      "metadata": {
        "colab": {
          "base_uri": "https://localhost:8080/"
        },
        "id": "srxGkoTF7wg9",
        "outputId": "510cfdb5-282a-4124-d3e3-d845b5f7de00"
      },
      "execution_count": 52,
      "outputs": [
        {
          "output_type": "stream",
          "name": "stdout",
          "text": [
            "File tersimpan sebagai 'youtube_comments.csv'\n"
          ]
        }
      ]
    }
  ],
  "metadata": {
    "language_info": {
      "name": "python"
    },
    "colab": {
      "provenance": []
    },
    "kernelspec": {
      "name": "python3",
      "display_name": "Python 3"
    }
  },
  "nbformat": 4,
  "nbformat_minor": 0
}